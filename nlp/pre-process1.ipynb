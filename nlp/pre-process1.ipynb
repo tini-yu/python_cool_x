{
 "cells": [
  {
   "cell_type": "code",
   "execution_count": null,
   "metadata": {},
   "outputs": [],
   "source": [
    "from nltk import word_tokenize\n",
    "from nltk.corpus import stopwords\n"
   ]
  },
  {
   "cell_type": "code",
   "execution_count": null,
   "metadata": {},
   "outputs": [],
   "source": [
    "text = '''My favorite book is \"The Old Man and the Sea\" by Ernest Hemingway. This story is one of the well-known works of the writer. The author depicts the characters of the old man and the boy and their relations very vividly and skillfully. Santiago, the old man, was one of the writer's beloved characters. The old man was a born fisherman, but he was not a butcher and fished only for a living. He was very lonely. He had a devoted friend - the boy, Manolin. The boy loved the old man for his kind heart, his devotion to the sea. Manolin was like a son to Santiago. He took care of the old man's food and his belongings.\n",
    "\n",
    "The old man was glad to pass his experience to the boy. He looked forward to going to the sea together with the boy.\n",
    "\n",
    "All Santiago's life had been in preparation for the battle with big fish. He knew that he had been born for this and it was time to prove it. A strong man at last had met a strong fish. The battle was a difficult one and full of danger.\n",
    "\n",
    "Though the sharks had eaten the fish and nothing had left but the backbone, the old man had morally won the battle. Santiago's words \"man can be destroyed but not defeated\" are the main idea of this story.\n",
    "\n",
    "\"The Old Man and the Sea\" is a masterpiece for its imaginative language and the description of nature.'''"
   ]
  },
  {
   "cell_type": "code",
   "execution_count": null,
   "metadata": {},
   "outputs": [],
   "source": [
    "words = word_tokenize(text)\n",
    "words"
   ]
  },
  {
   "cell_type": "code",
   "execution_count": null,
   "metadata": {},
   "outputs": [],
   "source": [
    "len(words)"
   ]
  },
  {
   "cell_type": "code",
   "execution_count": null,
   "metadata": {},
   "outputs": [],
   "source": [
    "stop = stopwords.words('english')\n",
    "stop"
   ]
  },
  {
   "cell_type": "code",
   "execution_count": null,
   "metadata": {},
   "outputs": [],
   "source": [
    "words_filtered = [word for word in words if word not in stop]\n",
    "words_filtered"
   ]
  },
  {
   "cell_type": "code",
   "execution_count": null,
   "metadata": {},
   "outputs": [],
   "source": [
    "len(words_filtered)"
   ]
  },
  {
   "cell_type": "code",
   "execution_count": null,
   "metadata": {},
   "outputs": [],
   "source": [
    "text = 'Игорь Шмаков тоже попросился на постой, но не в клуб. Он занял дом, который стоял в отдалении. У здания судьба не простая. Раньше, когда в селе церковь была, там батюшка жил. Дед мне рассказывал, что отец Владимир был строгим, но очень добрым. Пьяницам, драчунам спуску не давал. Если узнавал, что у кого-то семья из-за измены мужа или жены развалиться может, вызывал к себе виноватого и мало тому не казалось. Матушка Елена в церковно-приходской школе преподавала, детей учила утром, взрослых вечером. Объясняла бабам, как за младенцами ухаживать, требовала, чтобы и дома, и у скотины чистота была. Она тоже была строгая и добрая. Благодаря священнику окрестные села просто образцово-показательными стали. В начале двадцатых крестьяне прознали, что к ним собрались приехать чекисты с намереньем убить отца Владимира с женой и детьми. Селяне кинулись к священнику.'\n",
    "text"
   ]
  },
  {
   "cell_type": "code",
   "execution_count": null,
   "metadata": {},
   "outputs": [],
   "source": [
    "import spacy\n",
    "nlp = spacy.load('ru_core_news_sm')"
   ]
  },
  {
   "cell_type": "code",
   "execution_count": null,
   "metadata": {},
   "outputs": [],
   "source": [
    "doc = nlp(text)"
   ]
  },
  {
   "cell_type": "code",
   "execution_count": null,
   "metadata": {},
   "outputs": [],
   "source": [
    "words = [token.text for token in doc]\n",
    "words"
   ]
  },
  {
   "cell_type": "code",
   "execution_count": null,
   "metadata": {},
   "outputs": [],
   "source": [
    "words_filtered = [token.text for token in doc if not token.is_punct and not token.is_stop]\n",
    "words_filtered"
   ]
  },
  {
   "cell_type": "code",
   "execution_count": null,
   "metadata": {},
   "outputs": [],
   "source": [
    "len(words)"
   ]
  },
  {
   "cell_type": "code",
   "execution_count": null,
   "metadata": {},
   "outputs": [],
   "source": [
    "len(words_filtered)"
   ]
  },
  {
   "cell_type": "code",
   "execution_count": null,
   "metadata": {},
   "outputs": [],
   "source": [
    "words_lemma = [token.lemma_ for token in doc if not token.is_punct and not token.is_stop]\n",
    "words_lemma"
   ]
  },
  {
   "cell_type": "code",
   "execution_count": null,
   "metadata": {},
   "outputs": [],
   "source": [
    "'''doc.vector\n",
    "doc.similarity'''"
   ]
  }
 ],
 "metadata": {
  "kernelspec": {
   "display_name": "Python 3",
   "language": "python",
   "name": "python3"
  },
  "language_info": {
   "codemirror_mode": {
    "name": "ipython",
    "version": 3
   },
   "file_extension": ".py",
   "mimetype": "text/x-python",
   "name": "python",
   "nbconvert_exporter": "python",
   "pygments_lexer": "ipython3",
   "version": "3.10.11"
  }
 },
 "nbformat": 4,
 "nbformat_minor": 2
}
