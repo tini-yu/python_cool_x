{
 "cells": [
  {
   "cell_type": "code",
   "execution_count": 92,
   "metadata": {},
   "outputs": [],
   "source": [
    "import nltk\n",
    "from nltk.tokenize import NLTKWordTokenizer, PunktSentenceTokenizer\n",
    "import spacy\n",
    "nlp = spacy.load(\"ru_core_news_sm\")\n",
    "import pymorphy2\n",
    "morph = pymorphy2.MorphAnalyzer()\n",
    "from collections import Counter\n",
    "from nltk.corpus import stopwords"
   ]
  },
  {
   "cell_type": "code",
   "execution_count": 151,
   "metadata": {},
   "outputs": [],
   "source": [
    "#Дополняем стоп слова\n",
    "stopWords = stopwords.words(\"russian\")\n",
    "add_stop = []\n",
    "stopWords.extend(['её', 'неё'])\n",
    "for word in stopWords:\n",
    "    add_stop.append(word.title())\n",
    "stopWords.extend(add_stop)\n",
    "#stopWords"
   ]
  },
  {
   "cell_type": "code",
   "execution_count": 149,
   "metadata": {},
   "outputs": [],
   "source": [
    "class Analysis:\n",
    "\n",
    "    def __init__(self, text:str):\n",
    "        self.text = text\n",
    "\n",
    "    def tokenize(self) -> list[str]:\n",
    "        tokenizer = NLTKWordTokenizer()\n",
    "        tokens = tokenizer.tokenize(text)\n",
    "        removing = [' ', '•', '.', ',', '?', '!', ':', ';', '—', '«', '»', ')', '(', '[', ']', '...', '-', '–', '``', \"''\", 'note', '..']\n",
    "        for symb in removing:\n",
    "            while symb in tokens:\n",
    "                tokens.remove(symb)\n",
    "        return tokens\n",
    "    \n",
    "    def clear_stops(self) -> list[str]:\n",
    "        clear_tokens = self.tokenize()\n",
    "        for word in stopWords:\n",
    "            while word in clear_tokens:\n",
    "                clear_tokens.remove(word)\n",
    "        return clear_tokens\n",
    "\n",
    "    def lex_diverse(self):\n",
    "        tokens = self.clear_stops()\n",
    "        list_len = len(tokens)\n",
    "        set_len = len(set(tokens))\n",
    "        diversity = set_len / list_len\n",
    "        return f'Лексическое разнообразие: {round((diversity), 3)}'\n",
    "    \n",
    "    def quantify(self):\n",
    "        pos_list = []\n",
    "        for word in self.tokenize():\n",
    "            pos_list.append(morph.parse(word)[0].tag.POS)\n",
    "        pos_counter = Counter(pos_list)\n",
    "        top_5_pos = pos_counter.most_common(5)\n",
    "\n",
    "        word_counter = Counter(self.clear_stops())\n",
    "        top_20_words = word_counter.most_common(20)\n",
    "        return f\"Топ 5 частей речи:{top_5_pos}\\n\\tТоп 20 слов: {top_20_words}\"\n",
    "    \n",
    "    def av_sent_len(self):\n",
    "        pst = PunktSentenceTokenizer()\n",
    "        sentences = pst.tokenize(text)\n",
    "        lengths = []\n",
    "        for sent in sentences:\n",
    "            lengths.append(len(sent))\n",
    "        return f'Average sentence length is {round(sum(lengths)/len(lengths), 2)}'\n",
    "    \n",
    "    def dynamics(self):\n",
    "        pst = PunktSentenceTokenizer()\n",
    "        sentences = pst.tokenize(text)\n",
    "        tokenizer = NLTKWordTokenizer()\n",
    "        dynamic = []\n",
    "        for sent in sentences:\n",
    "            sent_tokens = tokenizer.tokenize(sent)\n",
    "            verbs = 0\n",
    "            for word in sent_tokens:\n",
    "                pos = morph.parse(word)[0].tag.POS\n",
    "                if pos == 'VERB' or pos == 'INFN':\n",
    "                    verbs += 1\n",
    "            sent_dynamic = verbs / len(sent)\n",
    "            dynamic.append(sent_dynamic)\n",
    "        return f'Среднее соотношение глаголов к словам в предложении (АКА Динамика текста) = {round(sum(dynamic)/len(dynamic),4)}'\n",
    "    \n",
    "    def literary(self):\n",
    "        pst = PunktSentenceTokenizer()\n",
    "        sentences = pst.tokenize(text)\n",
    "        tokenizer = NLTKWordTokenizer()\n",
    "        literarity = []\n",
    "        for sent in sentences:\n",
    "            sent_tokens = tokenizer.tokenize(sent)\n",
    "            descript = 0\n",
    "            for word in sent_tokens:\n",
    "                pos = morph.parse(word)[0].tag.POS\n",
    "                if pos == 'ADJF' or pos == 'ADJS' or pos == 'PRTF' or pos == 'PRTS' or pos == 'ADVB' or pos == 'GRND':\n",
    "                    descript += 1\n",
    "            sent_dynamic = descript / len(sent)\n",
    "            literarity.append(sent_dynamic)\n",
    "        return f'Среднее соотношение описывающих частей речи к словам в предложении (АКА Художественное наполнение) = {round(sum(literarity)/len(literarity),4)}'\n",
    "\n",
    "            \n"
   ]
  },
  {
   "cell_type": "code",
   "execution_count": 150,
   "metadata": {},
   "outputs": [
    {
     "name": "stdout",
     "output_type": "stream",
     "text": [
      "КНИГА breter_1846.txt\n",
      "        Лексическое разнообразие: 0.595\n",
      "        Топ 5 частей речи:[('NOUN', 2516), ('VERB', 1943), (None, 1366), ('NPRO', 1348), ('PREP', 1317)]\n",
      "\tТоп 20 слов: [('Маша', 109), ('Кистер', 99), ('Лучков', 74), ('Авдей', 53), ('Ненила', 35), ('человек', 34), ('Макарьевна', 30), ('Фёдор', 28), ('всё', 25), ('Кистера', 24), ('очень', 21), ('Фёдорович', 19), ('вами', 19), ('это', 19), ('Кистер.', 18), ('Иванович', 17), ('своей', 17), ('тебе', 17), ('Маша.', 17), ('своего', 16)]\n",
      "        Average sentence length is 71.59\n",
      "        Среднее соотношение глаголов к словам в предложении (АКА Динамика текста) = 0.0304\n",
      "        Среднее соотношение описывающих частей речи к словам в предложении (АКА Художественное наполнение) = 0.0277\n",
      "----------------------------------\n",
      "    \n",
      "КНИГА burmistr_1847.txt\n",
      "        Лексическое разнообразие: 0.757\n",
      "        Топ 5 частей речи:[('NOUN', 889), ('VERB', 478), ('PREP', 387), ('ADJF', 368), ('CONJ', 357)]\n",
      "\tТоп 20 слов: [('Аркадий', 46), ('Павлыч', 41), ('Софрон', 20), ('батюшка', 16), ('наши', 13), ('отцы', 12), ('человек', 9), ('спросил', 9), ('отвечал', 8), ('продолжал', 7), ('Ах', 7), ('это', 7), ('Пеночкин', 7), ('нам', 6), ('кого', 6), ('моего', 5), ('случае', 5), ('собою', 5), ('весьма', 5), ('мое', 5)]\n",
      "        Average sentence length is 84.03\n",
      "        Среднее соотношение глаголов к словам в предложении (АКА Динамика текста) = 0.0268\n",
      "        Среднее соотношение описывающих частей речи к словам в предложении (АКА Художественное наполнение) = 0.0275\n",
      "----------------------------------\n",
      "    \n",
      "КНИГА mumu_1854.txt\n",
      "        Лексическое разнообразие: 0.681\n",
      "        Топ 5 частей речи:[('NOUN', 1774), ('VERB', 1265), ('PREP', 978), ('CONJ', 835), ('ADJF', 790)]\n",
      "\tТоп 20 слов: [('Герасим', 59), ('Гаврила', 42), ('Муму', 41), ('барыня', 23), ('своей', 23), ('Капитон', 17), ('Степан', 17), ('день', 16), ('всё', 16), ('это', 16), ('Барыня', 15), ('очень', 15), ('Андреич', 14), ('человек', 13), ('тотчас', 13), ('Герасима', 12), ('глаза', 12), ('собака', 12), ('доме', 10), ('Татьяна', 10)]\n",
      "        Average sentence length is 101.76\n",
      "        Среднее соотношение глаголов к словам в предложении (АКА Динамика текста) = 0.0317\n",
      "        Среднее соотношение описывающих частей речи к словам в предложении (АКА Художественное наполнение) = 0.0262\n",
      "----------------------------------\n",
      "    \n",
      "КНИГА asya_1858.txt\n",
      "        Лексическое разнообразие: 0.614\n",
      "        Топ 5 частей речи:[('NOUN', 2299), ('VERB', 2069), ('NPRO', 2044), ('PREP', 1412), ('ADJF', 1336)]\n",
      "\tТоп 20 слов: [('Ася', 71), ('Гагин', 63), ('это', 39), ('очень', 27), ('я.', 23), ('сказал', 22), ('своей', 18), ('сегодня', 18), ('голову', 17), ('тотчас', 17), ('спросил', 17), ('день', 17), ('нам', 16), ('Асю', 16), ('мог', 16), ('начал', 15), ('хотел', 15), ('точно', 15), ('мои', 15), ('долго', 14)]\n",
      "        Average sentence length is 80.79\n",
      "        Среднее соотношение глаголов к словам в предложении (АКА Динамика текста) = 0.0334\n",
      "        Среднее соотношение описывающих частей речи к словам в предложении (АКА Художественное наполнение) = 0.0278\n",
      "----------------------------------\n",
      "    \n",
      "КНИГА otcy_i_deti_1862.txt\n",
      "        Лексическое разнообразие: 0.463\n",
      "        Топ 5 частей речи:[('NOUN', 10619), ('VERB', 7313), ('NPRO', 5907), ('CONJ', 5555), ('PREP', 5259)]\n",
      "\tТоп 20 слов: [('это', 305), ('Базаров', 284), ('Петрович', 246), ('Аркадий', 215), ('Павел', 162), ('Николай', 147), ('Базаров.', 101), ('Василий', 96), ('очень', 95), ('тебе', 88), ('промолвил', 88), ('Это', 86), ('Анна', 86), ('Сергеевна', 84), ('Иванович', 75), ('Евгений', 72), ('спросил', 68), ('Одинцова', 66), ('Аркадий.', 65), ('который', 60)]\n",
      "        Average sentence length is 76.77\n",
      "        Среднее соотношение глаголов к словам в предложении (АКА Динамика текста) = 0.0287\n",
      "        Среднее соотношение описывающих частей речи к словам в предложении (АКА Художественное наполнение) = 0.0264\n",
      "----------------------------------\n",
      "    \n",
      "КНИГА korol_lir_1870.txt\n",
      "        Лексическое разнообразие: 0.585\n",
      "        Топ 5 частей речи:[('NOUN', 4558), ('VERB', 2962), ('ADJF', 2178), ('CONJ', 2156), ('NPRO', 2081)]\n",
      "\tТоп 20 слов: [('Харлов', 96), ('Мартын', 87), ('Петрович', 78), ('это', 63), ('матушка', 45), ('Мартына', 42), ('Слёткин', 39), ('Евлампия', 38), ('Матушка', 34), ('Сувенир', 34), ('Анна', 33), ('Харлова', 32), ('словно', 30), ('Петровича', 29), ('очень', 27), ('человек', 26), ('руки', 25), ('промолвил', 23), ('Житков', 23), ('своего', 22)]\n",
      "        Average sentence length is 75.38\n",
      "        Среднее соотношение глаголов к словам в предложении (АКА Динамика текста) = 0.0311\n",
      "        Среднее соотношение описывающих частей речи к словам в предложении (АКА Художественное наполнение) = 0.0269\n",
      "----------------------------------\n",
      "    \n"
     ]
    }
   ],
   "source": [
    "texts = ['breter_1846.txt', 'burmistr_1847.txt', 'mumu_1854.txt', 'asya_1858.txt', 'otcy_i_deti_1862.txt', 'korol_lir_1870.txt']\n",
    "\n",
    "for el in texts:\n",
    "    with open(el, 'r') as file:\n",
    "        text = file.read()\n",
    "    book = Analysis(text)\n",
    "    print(f\"\"\"КНИГА {el}\n",
    "        {book.lex_diverse()}\n",
    "        {book.quantify()}\n",
    "        {book.av_sent_len()}\n",
    "        {book.dynamics()}\n",
    "        {book.literary()}\n",
    "----------------------------------\n",
    "    \"\"\")"
   ]
  },
  {
   "cell_type": "markdown",
   "metadata": {},
   "source": [
    "## Выводы"
   ]
  },
  {
   "cell_type": "markdown",
   "metadata": {},
   "source": [
    "Проведя сравнение текстов, можно заметить что на позднее начало - середину творческтва (1847 - 1858гг) приходятся наиболее лексически разнообразные работы. При том что средняя длина предложений остается в них наиболее высокой."
   ]
  },
  {
   "cell_type": "markdown",
   "metadata": {},
   "source": [
    "Динамика текста и его Художественное наполнение остаются примерно на одном уровне в течении всей карьеры (варьируясь между произведениями)"
   ]
  },
  {
   "cell_type": "markdown",
   "metadata": {},
   "source": [
    "Что не удивительно\n",
    "Наиболее используемыми частями речи являются глагол и существительное.\n",
    "А наиболее часто используемые слова - это имена персонажей. либо способы обращения к ним (наприм: собака, барышня, вами)"
   ]
  }
 ],
 "metadata": {
  "kernelspec": {
   "display_name": "Python 3",
   "language": "python",
   "name": "python3"
  },
  "language_info": {
   "codemirror_mode": {
    "name": "ipython",
    "version": 3
   },
   "file_extension": ".py",
   "mimetype": "text/x-python",
   "name": "python",
   "nbconvert_exporter": "python",
   "pygments_lexer": "ipython3",
   "version": "3.10.11"
  }
 },
 "nbformat": 4,
 "nbformat_minor": 2
}
