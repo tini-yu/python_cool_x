{
 "cells": [
  {
   "cell_type": "code",
   "execution_count": 49,
   "metadata": {},
   "outputs": [],
   "source": [
    "class MosquitoesCloud:\n",
    "    damage_per_mosquito: float = 1.7\n",
    "    mosquitoes_in_cloud: int = 5\n",
    "    damage = damage_per_mosquito*mosquitoes_in_cloud\n",
    "\n",
    "\n",
    "    def __init__(self,\n",
    "                damage_per_mosquito: float = 1.7,\n",
    "                mosquitoes_in_cloud: int = 5\n",
    "                 ):\n",
    "        if damage_per_mosquito is not None and mosquitoes_in_cloud is not None:\n",
    "            self.damage_per_mosquito = damage_per_mosquito\n",
    "            self.mosquitoes_in_cloud = mosquitoes_in_cloud\n",
    "            self.damage = damage_per_mosquito*mosquitoes_in_cloud\n",
    "        else:\n",
    "            raise ValueError('Please provide correct variables')\n",
    "        \n",
    "    def __add__(self, other):\n",
    "        new_mosquitoes_cloud = MosquitoesCloud(\n",
    "            damage_per_mosquito = (self.damage_per_mosquito + other.damage_per_mosquito)/2,\n",
    "        mosquitoes_in_cloud=self.mosquitoes_in_cloud + other.mosquitoes_in_cloud\n",
    "        )\n",
    "        return new_mosquitoes_cloud\n",
    "    \n",
    "    def __lt__(self, other):\n",
    "        return self.mosquitoes_in_cloud < other.mosquitoes_in_cloud\n",
    "    "
   ]
  },
  {
   "cell_type": "code",
   "execution_count": 50,
   "metadata": {},
   "outputs": [],
   "source": [
    "mcloud1 = MosquitoesCloud()"
   ]
  },
  {
   "cell_type": "code",
   "execution_count": 51,
   "metadata": {},
   "outputs": [
    {
     "data": {
      "text/plain": [
       "8.5"
      ]
     },
     "execution_count": 51,
     "metadata": {},
     "output_type": "execute_result"
    }
   ],
   "source": [
    "mcloud1.damage"
   ]
  },
  {
   "cell_type": "code",
   "execution_count": 52,
   "metadata": {},
   "outputs": [
    {
     "data": {
      "text/plain": [
       "90"
      ]
     },
     "execution_count": 52,
     "metadata": {},
     "output_type": "execute_result"
    }
   ],
   "source": [
    "mcloud2 = MosquitoesCloud(\n",
    "    mosquitoes_in_cloud = 10,\n",
    "    damage_per_mosquito = 9\n",
    ")\n",
    "mcloud2.damage"
   ]
  },
  {
   "cell_type": "code",
   "execution_count": 53,
   "metadata": {},
   "outputs": [
    {
     "data": {
      "text/plain": [
       "(80.25, 5.35, 15)"
      ]
     },
     "execution_count": 53,
     "metadata": {},
     "output_type": "execute_result"
    }
   ],
   "source": [
    "mcloud3 = mcloud1 + mcloud2\n",
    "mcloud3.damage, mcloud3.damage_per_mosquito, mcloud3.mosquitoes_in_cloud"
   ]
  },
  {
   "cell_type": "code",
   "execution_count": 59,
   "metadata": {},
   "outputs": [
    {
     "data": {
      "text/plain": [
       "(10, 10)"
      ]
     },
     "execution_count": 59,
     "metadata": {},
     "output_type": "execute_result"
    }
   ],
   "source": [
    "mcloud1.mosquitoes_in_cloud = 10\n",
    "mcloud1.mosquitoes_in_cloud, mcloud2.mosquitoes_in_cloud"
   ]
  },
  {
   "cell_type": "code",
   "execution_count": 61,
   "metadata": {},
   "outputs": [
    {
     "data": {
      "text/plain": [
       "True"
      ]
     },
     "execution_count": 61,
     "metadata": {},
     "output_type": "execute_result"
    }
   ],
   "source": [
    "mcloud2.mosquitoes_in_cloud == mcloud1.mosquitoes_in_cloud"
   ]
  },
  {
   "cell_type": "code",
   "execution_count": null,
   "metadata": {},
   "outputs": [],
   "source": []
  }
 ],
 "metadata": {
  "kernelspec": {
   "display_name": "Python 3",
   "language": "python",
   "name": "python3"
  },
  "language_info": {
   "codemirror_mode": {
    "name": "ipython",
    "version": 3
   },
   "file_extension": ".py",
   "mimetype": "text/x-python",
   "name": "python",
   "nbconvert_exporter": "python",
   "pygments_lexer": "ipython3",
   "version": "3.11.4"
  },
  "orig_nbformat": 4
 },
 "nbformat": 4,
 "nbformat_minor": 2
}
