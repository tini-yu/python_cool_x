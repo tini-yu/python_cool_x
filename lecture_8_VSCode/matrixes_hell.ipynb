{
 "cells": [
  {
   "cell_type": "code",
   "execution_count": 1,
   "metadata": {},
   "outputs": [],
   "source": [
    "# Создать class matrix\n",
    "# matrix: list\n",
    "# methods + - * / @\n",
    "# функция транспронирующая матрицу T()  как если matrix.T"
   ]
  },
  {
   "cell_type": "code",
   "execution_count": 1,
   "metadata": {},
   "outputs": [
    {
     "name": "stdout",
     "output_type": "stream",
     "text": [
      "Note: you may need to restart the kernel to use updated packages.\n"
     ]
    },
    {
     "name": "stderr",
     "output_type": "stream",
     "text": [
      "\n",
      "[notice] A new release of pip is available: 23.1.2 -> 23.2.1\n",
      "[notice] To update, run: python.exe -m pip install --upgrade pip\n"
     ]
    }
   ],
   "source": [
    "%pip install -q numpy"
   ]
  },
  {
   "cell_type": "code",
   "execution_count": 13,
   "metadata": {},
   "outputs": [],
   "source": [
    "import numpy as np"
   ]
  },
  {
   "cell_type": "code",
   "execution_count": 5,
   "metadata": {},
   "outputs": [],
   "source": [
    "class Matrix:\n",
    "    matrix = [[1, 2, 5],\n",
    "    [4, 55, 4],\n",
    "    [25, 0, 7]]\n",
    "    \n",
    "    def __init__(self, matrix = None):\n",
    "        if matrix is not None:\n",
    "            self.matrix = matrix\n",
    "        \n",
    "    \n",
    "    def __add__(self, other):\n",
    "        m_summ = self.matrix\n",
    "        for row_num, lst in enumerate(self.matrix):\n",
    "            for column_num, digit in enumerate(lst):\n",
    "                summ = self.matrix[row_num][column_num] + other.matrix[row_num][column_num]\n",
    "                m_summ[row_num][column_num] = summ\n",
    "        print(m_summ)"
   ]
  },
  {
   "cell_type": "code",
   "execution_count": 6,
   "metadata": {},
   "outputs": [],
   "source": [
    "m1 = Matrix()\n",
    "m2 = Matrix(\n",
    "    matrix=[\n",
    "        [0, 22, 7],\n",
    "        [1, 5, 1],\n",
    "        [69, 69, 420]\n",
    "    ]\n",
    ")"
   ]
  },
  {
   "cell_type": "code",
   "execution_count": 112,
   "metadata": {},
   "outputs": [
    {
     "name": "stdout",
     "output_type": "stream",
     "text": [
      "[[3, 4], [7, 9], [168, 420]]\n"
     ]
    }
   ],
   "source": [
    "m1 =[[1,2], \n",
    "     [2,3], \n",
    "     [99, 0]]\n",
    "m2 = [[2,2], \n",
    "      [5,6],\n",
    "      [69, 420]]\n",
    "m_summ = m1\n",
    "for row_num, lst in enumerate(m1):\n",
    "    for column_num, digit in enumerate(lst):\n",
    "        summ = m1[row_num][column_num] + m2[row_num][column_num]\n",
    "        m_summ[row_num][column_num] = summ\n",
    "print(m_summ)"
   ]
  },
  {
   "cell_type": "code",
   "execution_count": null,
   "metadata": {},
   "outputs": [],
   "source": []
  },
  {
   "cell_type": "code",
   "execution_count": null,
   "metadata": {},
   "outputs": [],
   "source": []
  },
  {
   "cell_type": "code",
   "execution_count": null,
   "metadata": {},
   "outputs": [],
   "source": []
  },
  {
   "cell_type": "code",
   "execution_count": null,
   "metadata": {},
   "outputs": [],
   "source": []
  }
 ],
 "metadata": {
  "kernelspec": {
   "display_name": "Python 3",
   "language": "python",
   "name": "python3"
  },
  "language_info": {
   "codemirror_mode": {
    "name": "ipython",
    "version": 3
   },
   "file_extension": ".py",
   "mimetype": "text/x-python",
   "name": "python",
   "nbconvert_exporter": "python",
   "pygments_lexer": "ipython3",
   "version": "3.11.4"
  },
  "orig_nbformat": 4
 },
 "nbformat": 4,
 "nbformat_minor": 2
}
