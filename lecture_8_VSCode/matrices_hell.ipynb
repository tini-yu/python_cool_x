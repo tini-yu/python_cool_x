{
 "cells": [
  {
   "cell_type": "code",
   "execution_count": 1,
   "metadata": {},
   "outputs": [
    {
     "name": "stderr",
     "output_type": "stream",
     "text": [
      "\n",
      "[notice] A new release of pip is available: 23.1.2 -> 23.2.1\n",
      "[notice] To update, run: python.exe -m pip install --upgrade pip\n"
     ]
    },
    {
     "name": "stdout",
     "output_type": "stream",
     "text": [
      "Note: you may need to restart the kernel to use updated packages.\n",
      "Note: you may need to restart the kernel to use updated packages.\n"
     ]
    },
    {
     "name": "stderr",
     "output_type": "stream",
     "text": [
      "\n",
      "[notice] A new release of pip is available: 23.1.2 -> 23.2.1\n",
      "[notice] To update, run: python.exe -m pip install --upgrade pip\n"
     ]
    }
   ],
   "source": [
    "%pip install -q numpy\n",
    "import numpy as np\n",
    "\n",
    "%pip install -q ipytest pytest\n",
    "\n",
    "import ipytest\n",
    "import pytest\n",
    "ipytest.autoconfig()"
   ]
  },
  {
   "cell_type": "code",
   "execution_count": 2,
   "metadata": {},
   "outputs": [],
   "source": [
    "class Matrix:\n",
    "    matrix: list = [[1, 2, 5],\n",
    "    [4, 55, 4],\n",
    "    [25, 0, 7]]\n",
    "    \n",
    "    def __init__(self, matrix = [[1, 2, 5],\n",
    "    [4, 55, 4],\n",
    "    [25, 0, 7]]):\n",
    "        if matrix is not None:\n",
    "            self.matrix = matrix\n",
    "\n",
    "    def __len__(self):\n",
    "        return len(self.matrix)    \n",
    "    \n",
    "    def __add__(self, other: list | int | float):\n",
    "        m_summ = [[] for x in self.matrix]\n",
    "        if type(other) == int or type(other) == float:\n",
    "            for row_num, row in enumerate(self.matrix):\n",
    "                for column_num, digit in enumerate(row):\n",
    "                    summ = self.matrix[row_num][column_num] + other\n",
    "                    m_summ[row_num].append(summ)\n",
    "        elif type(other.matrix) == list:\n",
    "            for row_num, row in enumerate(self.matrix):\n",
    "                for column_num, digit in enumerate(row):\n",
    "                    summ = self.matrix[row_num][column_num] + other.matrix[row_num][column_num]\n",
    "                    m_summ[row_num].append(summ)\n",
    "        return m_summ\n",
    "    \n",
    "    def __sub__(self, other: list | int | float):\n",
    "        m_sub = [[] for x in self.matrix]\n",
    "        if type(other) == int or type(other) == float:\n",
    "            for row_num, row in enumerate(self.matrix):\n",
    "                for column_num, digit in enumerate(row):\n",
    "                    sub = self.matrix[row_num][column_num] - other\n",
    "                    m_sub[row_num].append(sub)\n",
    "        elif type(other.matrix) == list:\n",
    "            for row_num, row in enumerate(self.matrix):\n",
    "                for column_num, digit in enumerate(row):\n",
    "                    sub = self.matrix[row_num][column_num] - other.matrix[row_num][column_num]\n",
    "                    m_sub[row_num].append(sub)\n",
    "        return m_sub\n",
    "    \n",
    "    def __mul__(self, other: list | int | float):\n",
    "        m_mul = [[] for x in self.matrix]\n",
    "        if type(other) == int or type(other) == float:\n",
    "            for row_num, row in enumerate(self.matrix):\n",
    "                for column_num, digit in enumerate(row):\n",
    "                    mul = self.matrix[row_num][column_num] * other\n",
    "                    m_mul[row_num].append(mul)\n",
    "        elif type(other.matrix) == list:\n",
    "            for row_num, row in enumerate(self.matrix):\n",
    "                for column_num, digit in enumerate(row):\n",
    "                    mul = self.matrix[row_num][column_num] * other.matrix[row_num][column_num]\n",
    "                    m_mul[row_num].append(mul)\n",
    "        return m_mul\n",
    "    \n",
    "    def __truediv__(self, other: list | int| float):\n",
    "        m_truediv = [[] for x in self.matrix]\n",
    "        if type(other) == int or type(other) == float:\n",
    "            for row_num, row in enumerate(self.matrix):\n",
    "                for column_num, digit in enumerate(row):\n",
    "                    truediv = self.matrix[row_num][column_num] / other\n",
    "                    m_truediv[row_num].append(truediv)\n",
    "        elif type(other.matrix) == list:\n",
    "            for row_num, row in enumerate(self.matrix):\n",
    "                for column_num, digit in enumerate(row):\n",
    "                    truediv = self.matrix[row_num][column_num] / other.matrix[row_num][column_num]\n",
    "                    m_truediv[row_num].append(truediv)\n",
    "        return m_truediv\n",
    "    \n",
    "    def T(self, other = None):\n",
    "        if other != None:\n",
    "            transposing_m = other.matrix\n",
    "        else:\n",
    "            transposing_m = self.matrix\n",
    "        transpose_frame = []\n",
    "        t_column_quantity = len(transposing_m)\n",
    "        t_row_quantity = len(transposing_m[0])\n",
    "        for rows in range(t_row_quantity):\n",
    "            sub_list = []\n",
    "            for number in range(t_column_quantity):\n",
    "                sub_list.append(number)\n",
    "            transpose_frame.append(sub_list) # Создаем каркас транспонированной матрицы с производными числами внутри\n",
    "        for row_num, row in enumerate(transposing_m):\n",
    "                for column_num, digit in enumerate(row):\n",
    "                    transpose_frame[column_num][row_num] = digit # Заменяем производные числа на правильные\n",
    "        return transpose_frame\n",
    "    \n",
    "    def __matmul__(self, other: list):\n",
    "        if len(other.matrix) > len(self.matrix):\n",
    "            other.matrix = self.T(other)\n",
    "        scalar_frame = []\n",
    "        for rows in range(len(self.matrix)):\n",
    "            sub_list = []\n",
    "            for number in range(len(other.matrix[0])):\n",
    "                sub_list.append(number)\n",
    "            scalar_frame.append(sub_list) # каркас для результата скалярного произведения\n",
    "        for row_num, row in enumerate(scalar_frame):\n",
    "                for column_num, digit in enumerate(row):\n",
    "                    one_result = 0\n",
    "                    for i in range(len(other.matrix)):\n",
    "                        x = self.matrix[row_num][i] * other.matrix[i][column_num]\n",
    "                        one_result += x\n",
    "                    scalar_frame[row_num][column_num] = one_result\n",
    "        return scalar_frame\n",
    "    \n",
    "\n"
   ]
  },
  {
   "cell_type": "code",
   "execution_count": 3,
   "metadata": {},
   "outputs": [
    {
     "name": "stdout",
     "output_type": "stream",
     "text": [
      "\u001b[32m.\u001b[0m\u001b[32m.\u001b[0m\u001b[32m.\u001b[0m\u001b[32m.\u001b[0m\u001b[32m.\u001b[0m\u001b[32m.\u001b[0m\u001b[32m.\u001b[0m\u001b[32m.\u001b[0m\u001b[32m.\u001b[0m\u001b[32m.\u001b[0m\u001b[32m                                                                                   [100%]\u001b[0m\n",
      "\u001b[32m\u001b[32m\u001b[1m10 passed\u001b[0m\u001b[32m in 0.02s\u001b[0m\u001b[0m\n"
     ]
    }
   ],
   "source": [
    "%%ipytest\n",
    "\n",
    "matrix1 = Matrix(matrix=[\n",
    "    [6, 1, 13],\n",
    "    [6, 6, 0],\n",
    "    [1555, 2, 1]\n",
    "])\n",
    "matrix2 = Matrix(matrix=[\n",
    "    [7, 1, 44],\n",
    "    [7, 7, 8],\n",
    "    [11, 12, -11]\n",
    "])\n",
    "\n",
    "@pytest.mark.parametrize(\"matrix1,matrix2\", [[matrix1, matrix2]])\n",
    "def test_matrix_add_matrix(matrix1: Matrix, matrix2: Matrix):\n",
    "    assert (\n",
    "        (matrix1 + matrix2 == (np.array(matrix1.matrix) + np.array(matrix2.matrix))).all()\n",
    "    ), 'add section with matrices is not working right'\n",
    "\n",
    "@pytest.mark.parametrize(\"matrix1,number\", [[matrix1, 13.2]])\n",
    "def test_matrix_add_number(matrix1: Matrix, number: int | float):\n",
    "    assert (\n",
    "        (matrix1 + number == np.array(matrix1.matrix) + number).all()\n",
    "    ), 'add section with matrix and number is not working right'\n",
    "\n",
    "@pytest.mark.parametrize(\"matrix1,matrix2\", [[matrix1, matrix2]])\n",
    "def test_matrix_sub_matrix(matrix1: Matrix, matrix2: Matrix):\n",
    "    assert (\n",
    "        (matrix1 - matrix2 == np.array(matrix1.matrix) - np.array(matrix2.matrix)).all()\n",
    "    ), 'sub section with matrices is not working right'\n",
    "\n",
    "@pytest.mark.parametrize(\"matrix1,number\", [[matrix1, 12.2]])    \n",
    "def test_matrix_sub_number(matrix1: Matrix, number: int | float):\n",
    "    assert (\n",
    "        (matrix1 - number == np.array(matrix1.matrix) - number).all()\n",
    "    ), 'sub section with matrix and number is not working right'\n",
    "\n",
    "@pytest.mark.parametrize(\"matrix1\", [matrix1])    \n",
    "def test_matrix_transpose(matrix1: Matrix):\n",
    "    assert (\n",
    "        (matrix1.T() == np.array(matrix1.matrix).T).all()\n",
    "    ), 'transpose section is not working right'\n",
    "    \n",
    "# -----------------------------------------\n",
    "\n",
    "@pytest.mark.parametrize(\"matrix1,matrix2\", [[matrix1, matrix2]])\n",
    "def test_matrix_mul_matrix(matrix1: Matrix, matrix2: Matrix):\n",
    "    assert (\n",
    "        (matrix1 * matrix2 == np.array(matrix1.matrix) * np.array(matrix2.matrix)).all()\n",
    "    ), 'mul section with matrices is not working right'\n",
    "\n",
    "@pytest.mark.parametrize(\"matrix1,number\", [[matrix1, 13]])\n",
    "def test_matrix_mul_number(matrix1: Matrix, number: int | float):\n",
    "    assert (\n",
    "        (matrix1 * number == np.array(matrix1.matrix) * number).all()\n",
    "    ), 'mul section with matrix and number is not working right'\n",
    "\n",
    "@pytest.mark.parametrize(\"matrix1,matrix2\", [[matrix1, matrix2]])    \n",
    "def test_matrix_div_matrix(matrix1: Matrix, matrix2: Matrix):\n",
    "    assert (\n",
    "        (matrix1 / matrix2 == np.array(matrix1.matrix) / np.array(matrix2.matrix)).all()\n",
    "    ), 'div section with matrices is not working right'\n",
    "\n",
    "@pytest.mark.parametrize(\"matrix1,number\", [[matrix1, 2]])    \n",
    "def test_matrix_div_number(matrix1: Matrix, number: int | float):\n",
    "    assert (\n",
    "        (matrix1 / number == np.array(matrix1.matrix) / number).all()\n",
    "    ), 'div section with matrix and number is not working right'\n",
    "\n",
    "@pytest.mark.parametrize(\"matrix1,matrix2\", [[matrix1, matrix2]])    \n",
    "def test_matrix_matmul_matrix(matrix1: Matrix, matrix2: Matrix):\n",
    "    assert(\n",
    "        (matrix1 @ matrix2 == np.array(matrix1.matrix) @ np.array(matrix2.matrix)).all()\n",
    "    ), 'matmul section is not working right, and don\\'t forget about T() if needed'"
   ]
  },
  {
   "cell_type": "code",
   "execution_count": 8,
   "metadata": {},
   "outputs": [
    {
     "data": {
      "text/plain": [
       "([[192, 169, 129], [84, 48, 312], [10910, 1581, 68425]],\n",
       " array([[  192,   169,   129],\n",
       "        [   84,    48,   312],\n",
       "        [10910,  1581, 68425]]))"
      ]
     },
     "execution_count": 8,
     "metadata": {},
     "output_type": "execute_result"
    }
   ],
   "source": [
    "matrix1 = Matrix(matrix=[\n",
    "    [6, 1, 13],\n",
    "    [6, 6, 0],\n",
    "    [1555, 2, 1]\n",
    "])\n",
    "matrix2 = Matrix(matrix=[\n",
    "    [7, 1, 44],\n",
    "    [7, 7, 8],\n",
    "    [11, 12, -11]\n",
    "])\n",
    "\n",
    "matrix1 @ matrix2, np.array(matrix1.matrix) @ np.array(matrix2.matrix)"
   ]
  },
  {
   "cell_type": "code",
   "execution_count": 5,
   "metadata": {},
   "outputs": [
    {
     "data": {
      "text/plain": [
       "[[5, 6, 7], [8, 10, 12], [88, 24, 25], [13, 23, 78]]"
      ]
     },
     "execution_count": 5,
     "metadata": {},
     "output_type": "execute_result"
    }
   ],
   "source": [
    "m1 = Matrix([\n",
    "    [1, 1, 1],\n",
    "    [1, 2, 3],\n",
    "    [11, 12, 13],\n",
    "    [11, 22, 33],\n",
    "])\n",
    "m2 = Matrix(\n",
    "    matrix=[\n",
    "    [4, 5, 6],\n",
    "    [7, 8, 9],\n",
    "    [77, 12, 12],\n",
    "    [2, 1, 45]\n",
    "]\n",
    ")\n",
    "\n",
    "f = m1+m2\n",
    "f"
   ]
  },
  {
   "cell_type": "code",
   "execution_count": 6,
   "metadata": {},
   "outputs": [
    {
     "data": {
      "text/plain": [
       "array([[ 5,  6,  7],\n",
       "       [ 8, 10, 12],\n",
       "       [88, 24, 25],\n",
       "       [13, 23, 78]])"
      ]
     },
     "execution_count": 6,
     "metadata": {},
     "output_type": "execute_result"
    }
   ],
   "source": [
    "npmatrix1 = np.array([\n",
    "    [1, 1, 1],\n",
    "    [1, 2, 3],\n",
    "    [11, 12, 13],\n",
    "    [11, 22, 33]\n",
    "\n",
    "])\n",
    "\n",
    "npmatrix2 = np.array([\n",
    "    [4, 5, 6],\n",
    "    [7, 8, 9],\n",
    "    [77, 12, 12],\n",
    "    [2, 1, 45]\n",
    "])\n",
    "z = npmatrix1 + npmatrix2\n",
    "z"
   ]
  },
  {
   "cell_type": "code",
   "execution_count": 7,
   "metadata": {},
   "outputs": [
    {
     "data": {
      "text/plain": [
       "array([[ True,  True,  True],\n",
       "       [ True,  True,  True],\n",
       "       [ True,  True,  True],\n",
       "       [ True,  True,  True]])"
      ]
     },
     "execution_count": 7,
     "metadata": {},
     "output_type": "execute_result"
    }
   ],
   "source": [
    "f == z"
   ]
  }
 ],
 "metadata": {
  "kernelspec": {
   "display_name": "Python 3",
   "language": "python",
   "name": "python3"
  },
  "language_info": {
   "codemirror_mode": {
    "name": "ipython",
    "version": 3
   },
   "file_extension": ".py",
   "mimetype": "text/x-python",
   "name": "python",
   "nbconvert_exporter": "python",
   "pygments_lexer": "ipython3",
   "version": "3.11.4"
  },
  "orig_nbformat": 4
 },
 "nbformat": 4,
 "nbformat_minor": 2
}
