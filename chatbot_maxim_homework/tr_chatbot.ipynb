{
 "cells": [
  {
   "cell_type": "code",
   "execution_count": 3,
   "metadata": {},
   "outputs": [
    {
     "name": "stderr",
     "output_type": "stream",
     "text": [
      "config.json: 100%|██████████| 1.57k/1.57k [00:00<?, ?B/s]\n",
      "c:\\Users\\Joe\\AppData\\Local\\Programs\\Python\\Python310\\lib\\site-packages\\huggingface_hub\\file_download.py:147: UserWarning: `huggingface_hub` cache-system uses symlinks by default to efficiently store duplicated files but your machine does not support them in C:\\Users\\Joe\\.cache\\huggingface\\hub. Caching files will still work but in a degraded version that might require more space on your disk. This warning can be disabled by setting the `HF_HUB_DISABLE_SYMLINKS_WARNING` environment variable. For more details, see https://huggingface.co/docs/huggingface_hub/how-to-cache#limitations.\n",
      "To support symlinks on Windows, you either need to activate Developer Mode or to run Python as an administrator. In order to see activate developer mode, see this article: https://docs.microsoft.com/en-us/windows/apps/get-started/enable-your-device-for-development\n",
      "  warnings.warn(message)\n",
      "pytorch_model.bin: 100%|██████████| 730M/730M [01:05<00:00, 11.2MB/s] \n",
      "generation_config.json: 100%|██████████| 347/347 [00:00<00:00, 26.7kB/s]\n"
     ]
    }
   ],
   "source": [
    "from transformers import AutoTokenizer, AutoModelForSeq2SeqLM\n",
    "model = AutoModelForSeq2SeqLM.from_pretrained('facebook/blenderbot-400M-distill')"
   ]
  },
  {
   "cell_type": "code",
   "execution_count": 4,
   "metadata": {},
   "outputs": [
    {
     "name": "stderr",
     "output_type": "stream",
     "text": [
      "tokenizer_config.json: 100%|██████████| 1.15k/1.15k [00:00<00:00, 1.15MB/s]\n",
      "vocab.json: 100%|██████████| 127k/127k [00:00<00:00, 558kB/s]\n",
      "merges.txt: 100%|██████████| 62.9k/62.9k [00:00<00:00, 541kB/s]\n",
      "added_tokens.json: 100%|██████████| 16.0/16.0 [00:00<?, ?B/s]\n",
      "special_tokens_map.json: 100%|██████████| 772/772 [00:00<?, ?B/s] \n",
      "tokenizer.json: 100%|██████████| 310k/310k [00:00<00:00, 902kB/s]\n"
     ]
    }
   ],
   "source": [
    "tokenizer = AutoTokenizer.from_pretrained('facebook/blenderbot-400M-distill')"
   ]
  },
  {
   "cell_type": "code",
   "execution_count": 16,
   "metadata": {},
   "outputs": [],
   "source": [
    "conversation_history = []\n",
    "history_str = '\\n'.join(conversation_history)"
   ]
  },
  {
   "cell_type": "code",
   "execution_count": 22,
   "metadata": {},
   "outputs": [],
   "source": [
    "input_text = 'Maintaining mental health is crucial to stabilizing constructive behaviors, emotions, and thoughts. Focusing on mental health care can increase productivity, enhance our self-image, and improve relationships.'"
   ]
  },
  {
   "cell_type": "code",
   "execution_count": 23,
   "metadata": {},
   "outputs": [],
   "source": [
    "inputs = tokenizer.encode_plus(history_str, input_text, return_tensors='pt')"
   ]
  },
  {
   "cell_type": "code",
   "execution_count": 24,
   "metadata": {},
   "outputs": [],
   "source": [
    "\n",
    "outputs = model.generate(**inputs)"
   ]
  },
  {
   "cell_type": "code",
   "execution_count": 25,
   "metadata": {},
   "outputs": [],
   "source": [
    "response = tokenizer.decode(outputs[0], skip_special_tokens=True).strip()"
   ]
  },
  {
   "cell_type": "code",
   "execution_count": 26,
   "metadata": {},
   "outputs": [
    {
     "data": {
      "text/plain": [
       "'Mental health is important for mental well-being and mental health as well.'"
      ]
     },
     "execution_count": 26,
     "metadata": {},
     "output_type": "execute_result"
    }
   ],
   "source": [
    "response"
   ]
  },
  {
   "cell_type": "code",
   "execution_count": 15,
   "metadata": {},
   "outputs": [],
   "source": [
    "conversation_history.append(input_text)\n",
    "conversation_history.append(response)"
   ]
  },
  {
   "cell_type": "code",
   "execution_count": 27,
   "metadata": {},
   "outputs": [],
   "source": [
    "conversation_history = []\n",
    "\n",
    "def chat(input_text):\n",
    "    history_str = '\\n'.join(conversation_history)\n",
    "    inputs = tokenizer.encode_plus(history_str, input_text, return_tensors='pt')\n",
    "    outputs = model.generate(**inputs)\n",
    "    response = tokenizer.decode(outputs[0], skip_special_tokens=True).strip()\n",
    "    conversation_history.append(input_text)\n",
    "    conversation_history.append(response)\n",
    "\n",
    "    return response"
   ]
  },
  {
   "cell_type": "code",
   "execution_count": 29,
   "metadata": {},
   "outputs": [
    {
     "name": "stdout",
     "output_type": "stream",
     "text": [
      "---  hi\n",
      "I have two dogs. They are my best friends as well. What kind of dog is he?\n",
      "---  i dont know you tell me\n",
      "He's a labrador retriever. I love him so much. What breeds are your dogs?\n",
      "---  what\n",
      "I have an Australian Shepherd and a Border Collie. They're great dogs.\n",
      "---  stop\n",
      "I love border collies! They are so smart and obedient. What do you like to do for fun?\n"
     ]
    }
   ],
   "source": [
    "text = ''\n",
    "while text != 'stop':\n",
    "    text = input()\n",
    "    print('--- ', text)\n",
    "    print(chat(text))\n"
   ]
  },
  {
   "cell_type": "markdown",
   "metadata": {},
   "source": [
    "## Я не знаю почему он начал говорить о собаках"
   ]
  },
  {
   "cell_type": "markdown",
   "metadata": {},
   "source": []
  }
 ],
 "metadata": {
  "kernelspec": {
   "display_name": "Python 3",
   "language": "python",
   "name": "python3"
  },
  "language_info": {
   "codemirror_mode": {
    "name": "ipython",
    "version": 3
   },
   "file_extension": ".py",
   "mimetype": "text/x-python",
   "name": "python",
   "nbconvert_exporter": "python",
   "pygments_lexer": "ipython3",
   "version": "3.10.11"
  }
 },
 "nbformat": 4,
 "nbformat_minor": 2
}
