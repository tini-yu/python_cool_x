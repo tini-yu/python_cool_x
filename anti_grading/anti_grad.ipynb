{
 "cells": [
  {
   "cell_type": "code",
   "execution_count": 2,
   "metadata": {},
   "outputs": [
    {
     "name": "stdout",
     "output_type": "stream",
     "text": [
      "Note: you may need to restart the kernel to use updated packages.\n"
     ]
    }
   ],
   "source": [
    "%pip install -q sympy"
   ]
  },
  {
   "cell_type": "code",
   "execution_count": 3,
   "metadata": {},
   "outputs": [],
   "source": [
    "import sympy as sp"
   ]
  },
  {
   "cell_type": "code",
   "execution_count": 13,
   "metadata": {},
   "outputs": [],
   "source": [
    "x, y = sp.symbols('x y') #Необходимо обозначить для работы с sympy"
   ]
  },
  {
   "cell_type": "code",
   "execution_count": 14,
   "metadata": {},
   "outputs": [
    {
     "data": {
      "text/latex": [
       "$\\displaystyle \\left(x - 10\\right)^{2}$"
      ],
      "text/plain": [
       "(x - 10)**2"
      ]
     },
     "execution_count": 14,
     "metadata": {},
     "output_type": "execute_result"
    }
   ],
   "source": [
    "equation = (x-10)**2 #Написать красиво формулу\n",
    "equation"
   ]
  },
  {
   "cell_type": "code",
   "execution_count": 15,
   "metadata": {},
   "outputs": [
    {
     "data": {
      "text/latex": [
       "$\\displaystyle 2 x - 20$"
      ],
      "text/plain": [
       "2*x - 20"
      ]
     },
     "execution_count": 15,
     "metadata": {},
     "output_type": "execute_result"
    }
   ],
   "source": [
    "sp.diff(equation) #Производная от формулы"
   ]
  },
  {
   "cell_type": "code",
   "execution_count": 16,
   "metadata": {},
   "outputs": [],
   "source": [
    "def antigrad(x):\n",
    "    return 2*x - 20"
   ]
  },
  {
   "cell_type": "code",
   "execution_count": 41,
   "metadata": {},
   "outputs": [
    {
     "name": "stdout",
     "output_type": "stream",
     "text": [
      "x0 = 8.0\n",
      "x1 = 9.6\n",
      "x2 = 9.92\n",
      "x3 = 9.984\n",
      "x4 = 9.9968\n",
      "x5 = 9.99936\n",
      "x6 = 9.999872\n",
      "x7 = 9.9999744\n",
      "x8 = 9.99999488\n",
      "x9 = 9.999998976\n",
      "x10 = 9.9999997952\n",
      "x11 = 9.99999995904\n",
      "x12 = 9.999999991808\n",
      "x13 = 9.9999999983616\n",
      "x14 = 9.99999999967232\n",
      "x15 = 9.999999999934465\n",
      "x16 = 9.999999999986892\n",
      "x17 = 9.999999999997378\n",
      "x18 = 9.999999999999476\n",
      "x19 = 9.999999999999895\n",
      "x20 = 9.999999999999979\n",
      "x21 = 9.999999999999996\n",
      "x22 = 10.0\n",
      "x23 = 10.0\n",
      "x24 = 10.0\n",
      "10.0\n"
     ]
    }
   ],
   "source": [
    "x = 0\n",
    "lr = 0.4 #learning rate\n",
    "\n",
    "for iteration in range(25):\n",
    "    x = x - lr*antigrad(x)\n",
    "    print(f'x{iteration} = {x}')\n",
    "\n",
    "print(x)"
   ]
  },
  {
   "cell_type": "code",
   "execution_count": null,
   "metadata": {},
   "outputs": [],
   "source": []
  }
 ],
 "metadata": {
  "kernelspec": {
   "display_name": "Python 3",
   "language": "python",
   "name": "python3"
  },
  "language_info": {
   "codemirror_mode": {
    "name": "ipython",
    "version": 3
   },
   "file_extension": ".py",
   "mimetype": "text/x-python",
   "name": "python",
   "nbconvert_exporter": "python",
   "pygments_lexer": "ipython3",
   "version": "3.11.4"
  }
 },
 "nbformat": 4,
 "nbformat_minor": 2
}
