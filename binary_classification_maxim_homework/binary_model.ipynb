{
 "cells": [
  {
   "cell_type": "code",
   "execution_count": 184,
   "metadata": {},
   "outputs": [],
   "source": [
    "import pandas as pd\n",
    "import numpy as np\n",
    "from sklearn.model_selection import train_test_split\n",
    "from sklearn.linear_model import LogisticRegression\n",
    "from sklearn.metrics import classification_report, confusion_matrix\n",
    "from sklearn.metrics import accuracy_score\n",
    "from nltk.corpus import stopwords\n",
    "from nltk.tokenize import RegexpTokenizer\n",
    "import gensim.downloader as gensim\n",
    "import pymorphy2\n",
    "morph = pymorphy2.MorphAnalyzer()\n",
    "import re"
   ]
  },
  {
   "cell_type": "code",
   "execution_count": 12,
   "metadata": {},
   "outputs": [],
   "source": [
    "data = pd.read_csv('banks.csv', sep='\\t')\n",
    "data = data.drop('idx', axis =1)\n",
    "data['Score'] = data['Score'].replace({'Negative': 0, 'Positive': 1})"
   ]
  },
  {
   "cell_type": "code",
   "execution_count": 13,
   "metadata": {},
   "outputs": [],
   "source": [
    "model = gensim.load(\"word2vec-ruscorpora-300\")"
   ]
  },
  {
   "cell_type": "code",
   "execution_count": 14,
   "metadata": {},
   "outputs": [
    {
     "name": "stdout",
     "output_type": "stream",
     "text": [
      "shape of train data is (9379,)\n",
      "shape of test data is (4620,)\n"
     ]
    }
   ],
   "source": [
    "X,y = data['Score'].values, data['Text'].values\n",
    "x_train,x_test,y_train,y_test = train_test_split(X,y,test_size=0.33, random_state=69)\n",
    "print(f'shape of train data is {x_train.shape}')\n",
    "print(f'shape of test data is {x_test.shape}')"
   ]
  },
  {
   "cell_type": "code",
   "execution_count": 27,
   "metadata": {},
   "outputs": [
    {
     "data": {
      "text/plain": [
       "array(['Вся предыстория данного отзыва описана здесь http://www.banki.ru/services/responses/bank/?responseID=5290660&code=9f919b2d9 . Если кратко, то 2 года назад Альфа-Банк мошенническим путем выдал потребительский кредит неустановленному лицу по ксерокопии моего паспорта и пытается взыскать данную задолженность с меня.  В результате моего судебного иска к банку суд постановил признать договор недействительным в декабре 2012. Дальнейшие действия банка детально описаны в предыдущем отзыве. После моих многократных обращений в банк и отставленного отзыва банк (исх N 077.2/65056 от 14.08.13) проинформировал об исполнении Банком решение суда. НО! Данная информация является ложной, т.к. по прошествии 3 месяцев после утверждения банка счет на мое имя не закрыт, и я числюсь должником банка. Об этом свидетельствует выписка со счета, выданная мне в отделении Альфа-Банка ДО Людмила 06.11.13. Я также числюсь злостным должником в БКИ, согласно выписке от 30.10.13. Т.е. Альфа-Банк предоставляет заведомо ложную информацию в своих официальных письмах, и в информационном пространстве на banki.ru и в офисах обслуживания. Исполнитель по моей претензии сообщил в августе, что счет будет обнулен в сентябре, в сентябре - что в октябре, в октябре, что - в ноябре. До каких пор это будет продолжаться? Когда же наконец Альфа-Банк исполнит законное Решение Суда N 2-74841 от 21.11.2012г? Когда будут закрыты (а не обнулены) счета на мое имя? Когда в БКИ будет передана достоверная информация об отсутствии у меня задолженности перед ОАО Альфа-Банк?',\n",
       "       'Когда-то у меня была зарплатная карта данного банка, которая очень скоро была закрыта. Спустя более года узнаю, что я должна банку деньги за пользование кредитной картой, которую не оформляла и в глаза не видела! 29.05.2015 мне пришла смс с уведомлением о том, что я должна оплатить комиссию банка. О том, что на меня оформлен кредит, узнала после звонка в банк.Прошу разобраться в данной ситуации.',\n",
       "       'Абсолютно случайно так оказалось, что человек, купивший у меня квартиру, держал деньги именно в этом банке. Я не стал их оттуда забирать. (Самарское отделение).Очень понравилось неравнодушное отношение к клиенту. Подбор выгодного для него вклада. Звонки по оптимизации вклада в период кризиса. Приятно работать с таким банком. Жаль, что совет директоров решил закрыть Самарское отделение. И особенно жаль этих обходительных девушек, которые так хорошо знают свою работу.',\n",
       "       ...,\n",
       "       'В ноябре 2007 года на сайте банка оформил заявку на автокредит. Сам живу в Сургуте, в заявке написал, что авто собираюсь покупать в Тюмени, 10% первый взнос. Через 2 дня позвонила девушка, уточнила несколько телефонов, семейное положение, спросила про работу и про зарплату, спросила кто будет ездить кроме меня на машине и все. Через час звонит девушка из автосалона и говорит, что мне одобрили кредит, спрашивает какая машина, какого цвета, хочу ли я какое-нибудь доп. оборудование, сказал что цвет не имеет значения, главное - это сигнализация. Девушка сказала, что я могу приезжать, машина есть в наличии, я сел на поезд и через 18 часов был в Тюмени. Оформление документов заняло часа 3, а через 2 дня мне отдали мою ласточку с сигнализацией, защитой и подкрылками.Где вы видели такую оперативность, да еще по интернету? Нормальный банк, ставлю вам хорошо!Все документы оформлялись в автосалоне Лада и К, Тюмень.',\n",
       "       'На этот раз ставлю банку Ренессанс Капитал заслуженную пятерку. Делала запрос по форме обратной связи на сайте 16 декабря 2009 г. в 21-15 по московскому времени. Вопрос касался реструктуризации задолженности. 17 декабря 2009 г. в 15-00 со мной связался сотрудник банка Максим (с номера (495)783-46-00). Обо всем рассказал, все доходчиво объяснил, обсудили разные варианты решения моей проблемы. Кстати, на сайте очень часто пишут отзывы о невозможности получить выписку по счету. У меня такой проблемы не было вообще, по телефону попросила сотрудницу выслать выписку по счету, получила через 2 недели. Очень приятно общаться с такими сотрудниками. Радует оперативность банка! Спасибо.',\n",
       "       'Созрела у меня идея сменить автомобиль, но на новый не хватало денег, решил кредитнуться. И как клиент Альфы с большим стажем, к тому же имеющий зарплатную карту и давно погашенный кредит в этом же банке, я заполнил заявку у них на сайте. В этот же день сотрудники банка позвонили всем, кого я указал контактами, и сделали звонок в бухгалтерию по месту работы. После чего позвонили мне на рабочее место и сообщили, что согласны дать сумму немного меньше, чем я просил. Я согласился. Пришли смски, что все хорошо, все одобрено, приезжайте до 11.10.2015 в отделения для оформления. Я быстренько продал свой старый авто и полетел в отделение. Приезжаю, девочки долго искали мою заявку по каким-то базам, в итоге нашли, НО оказалось, что мне отказано! Причины, соответственно, мне никто не сказал. Сотрудники посоветовали позвонить на горячую линию, что я и сделал. Девочка по телефону мне рассказывала, что система предварительно одобрила, а потом возможно нашли какие-то несоответствия данных в заявке и система автоматом отказала. Но меня не сам факт отказа огорчил, а то, что меня никак никто даже не пытался об этом уведомить! Все работники банка только пожали плечами и посоветовали написать претензию. В итоге, планы по смене автомобиля рухнули, без машины я не могу, я живу в поселке под Краснодаром, а работаю в городе, ребенок у меня ходит в садик в соседний поселок. Что теперь делать, я, если честно, не представляю... Я же специально сначала дождался одобрения, а потом продал машину... Моя оценка данного банка сильна упала, есть мысли закрыть все карты и уйти в ВТБ.'],\n",
       "      dtype=object)"
      ]
     },
     "execution_count": 27,
     "metadata": {},
     "output_type": "execute_result"
    }
   ],
   "source": [
    "y_train"
   ]
  },
  {
   "cell_type": "code",
   "execution_count": 119,
   "metadata": {},
   "outputs": [],
   "source": [
    "tokenizer = RegexpTokenizer(\"[\\w']+\")\n",
    "\n",
    "def preprocess(data):\n",
    "    stop = set(stopwords.words('russian'))\n",
    "    y_train = []\n",
    "    for text in data:\n",
    "        text = re.sub(r'http\\S+', '', text)\n",
    "        sentence_tokens = [i for i in tokenizer.tokenize(text.lower()) if i not in stop]\n",
    "        lemmatized = []\n",
    "        for word in sentence_tokens:\n",
    "            lemma = morph.parse(word)[0].normal_form\n",
    "            lemma = lemma + '_'\n",
    "            lemma = lemma + str(morph.parse(word)[0][1])[0:4]\n",
    "            lemmatized.append(lemma)\n",
    "        y_train.append(lemmatized)\n",
    "\n",
    "    return y_train"
   ]
  },
  {
   "cell_type": "code",
   "execution_count": 149,
   "metadata": {},
   "outputs": [],
   "source": [
    "testing_data = preprocess(y_train) # takes 4.5 minutes"
   ]
  },
  {
   "cell_type": "code",
   "execution_count": 160,
   "metadata": {},
   "outputs": [],
   "source": [
    "def get_vector(x):\n",
    "    '''Input: Single token''' \n",
    "    try:\n",
    "        return model.get_vector(x)\n",
    "    except:\n",
    "        return np.zeros(shape=300) #If the word is out of vocab, then return a 300 dim vector filled with zeros\n",
    "def vector_sum(x):\n",
    "    '''Input:List of word vectors'''\n",
    "    return np.sum(x,axis=0)\n",
    "def text_to_vector(lists_of_tokens):\n",
    "    review_vectors = []\n",
    "    for reviews in lists_of_tokens:\n",
    "        vectors = []\n",
    "        for token in reviews:\n",
    "            vectors.append(get_vector(token))\n",
    "        review_vectors.append(vector_sum(vectors))\n",
    "    return review_vectors"
   ]
  },
  {
   "cell_type": "code",
   "execution_count": 156,
   "metadata": {},
   "outputs": [],
   "source": [
    "review_vectors = text_to_vector(testing_data) #basically our y_train with review vectors"
   ]
  },
  {
   "cell_type": "code",
   "execution_count": 165,
   "metadata": {},
   "outputs": [
    {
     "data": {
      "text/plain": [
       "numpy.ndarray"
      ]
     },
     "execution_count": 165,
     "metadata": {},
     "output_type": "execute_result"
    }
   ],
   "source": [
    "type(x_train)"
   ]
  },
  {
   "cell_type": "markdown",
   "metadata": {},
   "source": [
    "## Creating a Logistic Regression Model"
   ]
  },
  {
   "cell_type": "code",
   "execution_count": 166,
   "metadata": {},
   "outputs": [
    {
     "data": {
      "text/html": [
       "<style>#sk-container-id-1 {color: black;}#sk-container-id-1 pre{padding: 0;}#sk-container-id-1 div.sk-toggleable {background-color: white;}#sk-container-id-1 label.sk-toggleable__label {cursor: pointer;display: block;width: 100%;margin-bottom: 0;padding: 0.3em;box-sizing: border-box;text-align: center;}#sk-container-id-1 label.sk-toggleable__label-arrow:before {content: \"▸\";float: left;margin-right: 0.25em;color: #696969;}#sk-container-id-1 label.sk-toggleable__label-arrow:hover:before {color: black;}#sk-container-id-1 div.sk-estimator:hover label.sk-toggleable__label-arrow:before {color: black;}#sk-container-id-1 div.sk-toggleable__content {max-height: 0;max-width: 0;overflow: hidden;text-align: left;background-color: #f0f8ff;}#sk-container-id-1 div.sk-toggleable__content pre {margin: 0.2em;color: black;border-radius: 0.25em;background-color: #f0f8ff;}#sk-container-id-1 input.sk-toggleable__control:checked~div.sk-toggleable__content {max-height: 200px;max-width: 100%;overflow: auto;}#sk-container-id-1 input.sk-toggleable__control:checked~label.sk-toggleable__label-arrow:before {content: \"▾\";}#sk-container-id-1 div.sk-estimator input.sk-toggleable__control:checked~label.sk-toggleable__label {background-color: #d4ebff;}#sk-container-id-1 div.sk-label input.sk-toggleable__control:checked~label.sk-toggleable__label {background-color: #d4ebff;}#sk-container-id-1 input.sk-hidden--visually {border: 0;clip: rect(1px 1px 1px 1px);clip: rect(1px, 1px, 1px, 1px);height: 1px;margin: -1px;overflow: hidden;padding: 0;position: absolute;width: 1px;}#sk-container-id-1 div.sk-estimator {font-family: monospace;background-color: #f0f8ff;border: 1px dotted black;border-radius: 0.25em;box-sizing: border-box;margin-bottom: 0.5em;}#sk-container-id-1 div.sk-estimator:hover {background-color: #d4ebff;}#sk-container-id-1 div.sk-parallel-item::after {content: \"\";width: 100%;border-bottom: 1px solid gray;flex-grow: 1;}#sk-container-id-1 div.sk-label:hover label.sk-toggleable__label {background-color: #d4ebff;}#sk-container-id-1 div.sk-serial::before {content: \"\";position: absolute;border-left: 1px solid gray;box-sizing: border-box;top: 0;bottom: 0;left: 50%;z-index: 0;}#sk-container-id-1 div.sk-serial {display: flex;flex-direction: column;align-items: center;background-color: white;padding-right: 0.2em;padding-left: 0.2em;position: relative;}#sk-container-id-1 div.sk-item {position: relative;z-index: 1;}#sk-container-id-1 div.sk-parallel {display: flex;align-items: stretch;justify-content: center;background-color: white;position: relative;}#sk-container-id-1 div.sk-item::before, #sk-container-id-1 div.sk-parallel-item::before {content: \"\";position: absolute;border-left: 1px solid gray;box-sizing: border-box;top: 0;bottom: 0;left: 50%;z-index: -1;}#sk-container-id-1 div.sk-parallel-item {display: flex;flex-direction: column;z-index: 1;position: relative;background-color: white;}#sk-container-id-1 div.sk-parallel-item:first-child::after {align-self: flex-end;width: 50%;}#sk-container-id-1 div.sk-parallel-item:last-child::after {align-self: flex-start;width: 50%;}#sk-container-id-1 div.sk-parallel-item:only-child::after {width: 0;}#sk-container-id-1 div.sk-dashed-wrapped {border: 1px dashed gray;margin: 0 0.4em 0.5em 0.4em;box-sizing: border-box;padding-bottom: 0.4em;background-color: white;}#sk-container-id-1 div.sk-label label {font-family: monospace;font-weight: bold;display: inline-block;line-height: 1.2em;}#sk-container-id-1 div.sk-label-container {text-align: center;}#sk-container-id-1 div.sk-container {/* jupyter's `normalize.less` sets `[hidden] { display: none; }` but bootstrap.min.css set `[hidden] { display: none !important; }` so we also need the `!important` here to be able to override the default hidden behavior on the sphinx rendered scikit-learn.org. See: https://github.com/scikit-learn/scikit-learn/issues/21755 */display: inline-block !important;position: relative;}#sk-container-id-1 div.sk-text-repr-fallback {display: none;}</style><div id=\"sk-container-id-1\" class=\"sk-top-container\"><div class=\"sk-text-repr-fallback\"><pre>LogisticRegression(random_state=69, solver=&#x27;liblinear&#x27;)</pre><b>In a Jupyter environment, please rerun this cell to show the HTML representation or trust the notebook. <br />On GitHub, the HTML representation is unable to render, please try loading this page with nbviewer.org.</b></div><div class=\"sk-container\" hidden><div class=\"sk-item\"><div class=\"sk-estimator sk-toggleable\"><input class=\"sk-toggleable__control sk-hidden--visually\" id=\"sk-estimator-id-1\" type=\"checkbox\" checked><label for=\"sk-estimator-id-1\" class=\"sk-toggleable__label sk-toggleable__label-arrow\">LogisticRegression</label><div class=\"sk-toggleable__content\"><pre>LogisticRegression(random_state=69, solver=&#x27;liblinear&#x27;)</pre></div></div></div></div></div>"
      ],
      "text/plain": [
       "LogisticRegression(random_state=69, solver='liblinear')"
      ]
     },
     "execution_count": 166,
     "metadata": {},
     "output_type": "execute_result"
    }
   ],
   "source": [
    "ml_model = LogisticRegression(solver='liblinear', random_state=69)\n",
    "ml_model.fit(review_vectors, x_train)"
   ]
  },
  {
   "cell_type": "code",
   "execution_count": 171,
   "metadata": {},
   "outputs": [],
   "source": [
    "p_pred = ml_model.predict_proba(review_vectors)\n",
    "y_pred = ml_model.predict(review_vectors)\n",
    "score_ = ml_model.score(review_vectors, x_train)\n",
    "conf_m = confusion_matrix(x_train, y_pred)\n",
    "report = classification_report(x_train, y_pred)"
   ]
  },
  {
   "cell_type": "code",
   "execution_count": 177,
   "metadata": {},
   "outputs": [
    {
     "name": "stdout",
     "output_type": "stream",
     "text": [
      "              precision    recall  f1-score   support\n",
      "\n",
      "           0       0.89      0.88      0.89      4694\n",
      "           1       0.88      0.89      0.89      4685\n",
      "\n",
      "    accuracy                           0.89      9379\n",
      "   macro avg       0.89      0.89      0.89      9379\n",
      "weighted avg       0.89      0.89      0.89      9379\n",
      "\n"
     ]
    }
   ],
   "source": [
    "print(report)"
   ]
  },
  {
   "cell_type": "code",
   "execution_count": 179,
   "metadata": {},
   "outputs": [],
   "source": [
    "y_test = preprocess(y_test)"
   ]
  },
  {
   "cell_type": "code",
   "execution_count": 182,
   "metadata": {},
   "outputs": [],
   "source": [
    "y_test = text_to_vector(y_test)"
   ]
  },
  {
   "cell_type": "code",
   "execution_count": 183,
   "metadata": {},
   "outputs": [
    {
     "name": "stdout",
     "output_type": "stream",
     "text": [
      "Accuracy: 0.8718614718614719\n"
     ]
    }
   ],
   "source": [
    "#checking on test set\n",
    "y_pred = ml_model.predict(y_test)\n",
    "accuracy = accuracy_score(x_test, y_pred)\n",
    "print(\"Accuracy:\", accuracy)"
   ]
  },
  {
   "cell_type": "markdown",
   "metadata": {},
   "source": [
    "##### Logistic Regression достаточно точная, а также хорошо подходит для задачи бинарной классификации"
   ]
  },
  {
   "cell_type": "markdown",
   "metadata": {},
   "source": []
  }
 ],
 "metadata": {
  "kernelspec": {
   "display_name": "Python 3",
   "language": "python",
   "name": "python3"
  },
  "language_info": {
   "codemirror_mode": {
    "name": "ipython",
    "version": 3
   },
   "file_extension": ".py",
   "mimetype": "text/x-python",
   "name": "python",
   "nbconvert_exporter": "python",
   "pygments_lexer": "ipython3",
   "version": "3.10.11"
  }
 },
 "nbformat": 4,
 "nbformat_minor": 2
}
