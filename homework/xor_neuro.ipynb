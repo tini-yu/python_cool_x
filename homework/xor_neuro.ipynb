{
 "cells": [
  {
   "cell_type": "code",
   "execution_count": 12,
   "metadata": {},
   "outputs": [],
   "source": [
    "import torch\n",
    "from torch import nn\n",
    "from torchsummary import summary\n",
    "\n",
    "# Выполнять вычисления лучше на gpu\n",
    "tensor_device = torch.device('cuda') if torch.cuda.is_available() else torch.device('cpu') "
   ]
  },
  {
   "cell_type": "code",
   "execution_count": 13,
   "metadata": {},
   "outputs": [],
   "source": [
    "# Готовим тренировочные данные.\n",
    "# Вход и выход - вектора.\n",
    "data_train = [\n",
    "\t\t{ \"in\": [0, 0], \"out\": [0] },\n",
    "\t\t{ \"in\": [0, 1], \"out\": [1] },\n",
    "\t\t{ \"in\": [1, 0], \"out\": [1] },\n",
    "\t\t{ \"in\": [1, 1], \"out\": [0] },\n",
    "]\n",
    "\n",
    "# Превращаем в два листа - вопрос и ответ\n",
    "tensor_train_x = list(map(lambda item: item[\"in\"], data_train))\n",
    "tensor_train_y = list(map(lambda item: item[\"out\"], data_train))\n",
    "\n",
    "# Преобразуем в тензор с float32 с помощью торча\n",
    "tensor_train_x = torch.tensor(tensor_train_x).to(torch.float32).to(tensor_device)\n",
    "tensor_train_y = torch.tensor(tensor_train_y).to(torch.float32).to(tensor_device)"
   ]
  },
  {
   "cell_type": "code",
   "execution_count": 14,
   "metadata": {},
   "outputs": [
    {
     "name": "stdout",
     "output_type": "stream",
     "text": [
      "Вход:\n",
      "tensor([[0., 0.],\n",
      "        [0., 1.],\n",
      "        [1., 0.],\n",
      "        [1., 1.]], device='cuda:0')\n",
      "Размерность вектора: torch.Size([4, 2])\n",
      "\n",
      "Ответы:\n",
      "tensor([[0.],\n",
      "        [1.],\n",
      "        [1.],\n",
      "        [0.]], device='cuda:0')\n",
      "размерность вектора: torch.Size([4, 1])\n"
     ]
    }
   ],
   "source": [
    "# Проверяем правильность данных\n",
    "print (\"Вход:\")\n",
    "print (tensor_train_x)\n",
    "print (\"Размерность вектора:\", tensor_train_x.shape)\n",
    "print (\"\")\n",
    "print (\"Ответы:\")\n",
    "print (tensor_train_y)\n",
    "print (\"размерность вектора:\", tensor_train_y.shape)\n",
    "# Вход - 4 2ух-мерных вектора; Выход - 4 1но-мерных вектора"
   ]
  },
  {
   "cell_type": "code",
   "execution_count": 21,
   "metadata": {},
   "outputs": [
    {
     "data": {
      "text/plain": [
       "Sequential(\n",
       "  (0): Linear(in_features=2, out_features=16, bias=True)\n",
       "  (1): ReLU()\n",
       "  (2): Linear(in_features=16, out_features=1, bias=True)\n",
       ")"
      ]
     },
     "execution_count": 21,
     "metadata": {},
     "output_type": "execute_result"
    }
   ],
   "source": [
    "input_shape = 2 # Размерность входа и выхода как описано выше.\n",
    "output_shape = 1\n",
    "\n",
    "# Скрытый слой из 16 нейронов с функцией активации Relu.\n",
    "# All neural networks are implemented with nn.Module. If the layers are sequentially used (self.layer3(self.layer2(self.layer1(x))), you can leverage nn.Sequential to not have to define the forward function of the model.\n",
    "model = nn.Sequential(\n",
    "\tnn.Linear(input_shape, 16),\n",
    "\tnn.ReLU(),\n",
    "\tnn.Linear(16, output_shape)\n",
    ")\n",
    "\n",
    "model.cuda() # Иначе выдает ошибку, что тензоры на разных девайсах, т.к. model.to - появляется только в ячейке ниже"
   ]
  },
  {
   "cell_type": "code",
   "execution_count": 22,
   "metadata": {},
   "outputs": [],
   "source": [
    "#Оптимизация модели\n",
    "# Оптимизатор Adam\n",
    "optimizer = torch.optim.Adam(model.parameters(), lr=1e-3, betas=(0.9, 0.99))\n",
    "\n",
    "# mean squared error\n",
    "loss = nn.MSELoss()\n",
    "\n",
    "# Batch size\n",
    "batch_size = 2\n",
    "\n",
    "# Epochs\n",
    "epochs = 1000"
   ]
  },
  {
   "cell_type": "code",
   "execution_count": 23,
   "metadata": {},
   "outputs": [
    {
     "name": "stdout",
     "output_type": "stream",
     "text": [
      "----------------------------------------------------------------\n",
      "        Layer (type)               Output Shape         Param #\n",
      "================================================================\n",
      "            Linear-1                   [-1, 16]              48\n",
      "              ReLU-2                   [-1, 16]               0\n",
      "            Linear-3                    [-1, 1]              17\n",
      "================================================================\n",
      "Total params: 65\n",
      "Trainable params: 65\n",
      "Non-trainable params: 0\n",
      "----------------------------------------------------------------\n",
      "Input size (MB): 0.00\n",
      "Forward/backward pass size (MB): 0.00\n",
      "Params size (MB): 0.00\n",
      "Estimated Total Size (MB): 0.00\n",
      "----------------------------------------------------------------\n"
     ]
    }
   ],
   "source": [
    "summary(model, (input_shape,))"
   ]
  },
  {
   "cell_type": "code",
   "execution_count": 24,
   "metadata": {},
   "outputs": [
    {
     "name": "stdout",
     "output_type": "stream",
     "text": [
      "1,\t loss: 0.4590420126914978\n",
      "11,\t loss: 0.4068171977996826\n",
      "21,\t loss: 0.3650370240211487\n",
      "31,\t loss: 0.331632524728775\n",
      "41,\t loss: 0.3053731918334961\n",
      "51,\t loss: 0.2849001884460449\n",
      "61,\t loss: 0.26867908239364624\n",
      "71,\t loss: 0.25579679012298584\n",
      "81,\t loss: 0.24487265944480896\n",
      "91,\t loss: 0.2347886860370636\n",
      "101,\t loss: 0.22528240084648132\n",
      "111,\t loss: 0.21604067087173462\n",
      "121,\t loss: 0.2070227563381195\n",
      "131,\t loss: 0.19804655015468597\n",
      "141,\t loss: 0.18933376669883728\n",
      "151,\t loss: 0.18109750747680664\n",
      "161,\t loss: 0.1728576421737671\n",
      "171,\t loss: 0.16464897990226746\n",
      "181,\t loss: 0.15647169947624207\n",
      "191,\t loss: 0.14867302775382996\n",
      "201,\t loss: 0.1409216672182083\n",
      "211,\t loss: 0.13315922021865845\n",
      "221,\t loss: 0.12549394369125366\n",
      "231,\t loss: 0.11792219430208206\n",
      "241,\t loss: 0.11036509275436401\n",
      "251,\t loss: 0.1029871255159378\n",
      "261,\t loss: 0.09566468000411987\n",
      "271,\t loss: 0.08851803839206696\n",
      "281,\t loss: 0.08150225132703781\n",
      "291,\t loss: 0.07469648122787476\n",
      "301,\t loss: 0.06809379160404205\n",
      "311,\t loss: 0.06169195473194122\n",
      "321,\t loss: 0.05557055026292801\n",
      "331,\t loss: 0.049710050225257874\n",
      "341,\t loss: 0.044181011617183685\n",
      "351,\t loss: 0.03897326439619064\n",
      "361,\t loss: 0.03407878428697586\n",
      "371,\t loss: 0.029557999223470688\n",
      "381,\t loss: 0.025399349629878998\n",
      "391,\t loss: 0.021603144705295563\n",
      "401,\t loss: 0.01818772405385971\n",
      "411,\t loss: 0.015124538913369179\n",
      "421,\t loss: 0.012426892295479774\n",
      "431,\t loss: 0.010078957304358482\n"
     ]
    }
   ],
   "source": [
    "# Обучение с помощью fit\n",
    "\n",
    "history = []\n",
    "\n",
    "# Переместим модель на устройство\n",
    "model = model.to(tensor_device)\n",
    "\n",
    "for i in range(epochs):\n",
    "\t\n",
    "\t# Вычислим результат модели\n",
    "\tmodel_res = model(tensor_train_x)\n",
    "\t\n",
    "\t# Найдем значение ошибки между ответом модели и правильными ответами\n",
    "\tloss_value = loss(model_res, tensor_train_y)\n",
    "\t\n",
    "\t# Добавим значение ошибки в историю, для дальнейшего отображения на графике\n",
    "\tloss_value_item = loss_value.item()\n",
    "\thistory.append(loss_value_item)\n",
    "\t\n",
    "\t# Вычислим градиент\n",
    "\toptimizer.zero_grad()\n",
    "\tloss_value.backward()\n",
    "\t\n",
    "\t# Оптимизируем\n",
    "\toptimizer.step()\n",
    "\t\n",
    "\t# Остановим обучение, если ошибка меньше чем 0.01\n",
    "\tif loss_value_item < 0.01:\n",
    "\t\tbreak\n",
    "\t\n",
    "\t# Отладочная информация\n",
    "\tif i % 10 == 0:\n",
    "\t\tprint (f\"{i+1},\\t loss: {loss_value_item}\")\n",
    "\t\n",
    "\t# Очистим кэш CUDA\n",
    "\tif torch.cuda.is_available():\n",
    "\t\ttorch.cuda.empty_cache()"
   ]
  },
  {
   "cell_type": "code",
   "execution_count": 25,
   "metadata": {},
   "outputs": [
    {
     "data": {
      "image/png": "[encoded data removed]",
      "text/plain": [
       "<Figure size 640x480 with 1 Axes>"
      ]
     },
     "metadata": {},
     "output_type": "display_data"
    }
   ],
   "source": [
    "# Выводим график\n",
    "import matplotlib.pyplot as plt\n",
    "\n",
    "plt.plot(history)\n",
    "plt.title('Loss')\n",
    "plt.savefig('xor_torch.png')\n",
    "plt.show()\n",
    "\n",
    "# Видно что ошибка стремиться к нулю"
   ]
  },
  {
   "cell_type": "code",
   "execution_count": 26,
   "metadata": {},
   "outputs": [
    {
     "name": "stdout",
     "output_type": "stream",
     "text": [
      "Shape: torch.Size([4, 2])\n",
      "[0.0, 0.0] -> [0.0]\n",
      "[0.0, 1.0] -> [1.0]\n",
      "[1.0, 0.0] -> [1.0]\n",
      "[1.0, 1.0] -> [0.0]\n"
     ]
    }
   ],
   "source": [
    "# Тест для нейронной сети\n",
    "control_x = [\n",
    "\t[0, 0],\n",
    "\t[0, 1],\n",
    "\t[1, 0],\n",
    "\t[1, 1],\n",
    "]\n",
    "\n",
    "control_x = torch.tensor(control_x).to(torch.float32).to(tensor_device)\n",
    "\n",
    "print (\"Shape:\", control_x.shape)\n",
    "\n",
    "answer = model( control_x )\n",
    "\n",
    "for i in range(len(answer)):\n",
    "\tprint(control_x[i].tolist(), \"->\", answer[i].round().tolist())"
   ]
  },
  {
   "cell_type": "code",
   "execution_count": null,
   "metadata": {},
   "outputs": [],
   "source": []
  }
 ],
 "metadata": {
  "kernelspec": {
   "display_name": "Python 3",
   "language": "python",
   "name": "python3"
  },
  "language_info": {
   "codemirror_mode": {
    "name": "ipython",
    "version": 3
   },
   "file_extension": ".py",
   "mimetype": "text/x-python",
   "name": "python",
   "nbconvert_exporter": "python",
   "pygments_lexer": "ipython3",
   "version": "3.11.4"
  }
 },
 "nbformat": 4,
 "nbformat_minor": 2
}
