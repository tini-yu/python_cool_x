{
 "cells": [
  {
   "cell_type": "code",
   "execution_count": 3,
   "metadata": {},
   "outputs": [],
   "source": [
    "import numpy as np"
   ]
  },
  {
   "cell_type": "code",
   "execution_count": 8,
   "metadata": {},
   "outputs": [],
   "source": [
    "class Matrix:\n",
    "\n",
    "    matrix = None\n",
    "\n",
    "    def __init__(self,\n",
    "                 matrix = None\n",
    "                 ):\n",
    "        if matrix is not None:\n",
    "            try:\n",
    "                if len(matrix) == 4 and len(matrix[0]) == 4:\n",
    "                    self.matrix = np.array(matrix)\n",
    "                else:\n",
    "                    raise Exception()\n",
    "            except:\n",
    "                print(\"We only work with 4x4 matrices. Please check your matrix.\")\n",
    "\n",
    "    def unit_vector(self, vector):\n",
    "        norm = 0\n",
    "        for element in vector:\n",
    "            norm += (element**2)\n",
    "        norm = norm**0.5\n",
    "        unit_vector = vector / norm\n",
    "        return unit_vector\n",
    "\n",
    "    def ortogonize(self):\n",
    "        # Транспонируем матрицу, чтобы было легче работать с векторами\n",
    "        matrix = self.matrix.transpose()\n",
    "        f_list = []\n",
    "        counter = 0\n",
    "        # Принцип цикла ниже в том, что если найденный вектор(f) получается нулевым, то мы его отбрасываем\n",
    "        # и повторяем тот же этап цикла но уже со следующим вектором.\n",
    "        for v_num in range(4):\n",
    "            if counter == 0:\n",
    "                f1 = np.array(matrix[v_num])\n",
    "                if f1.any() == False:\n",
    "                    continue\n",
    "                counter += 1\n",
    "                f_list.append(f1)\n",
    "            elif counter == 1:\n",
    "                vector2 = matrix[v_num]\n",
    "                a=(np.matmul(vector2, f1.transpose())/ np.matmul(f1, f1.transpose()))\n",
    "                f2 = vector2 - f1*a\n",
    "                if f2.any() == False:\n",
    "                    continue\n",
    "                counter += 1\n",
    "                f_list.append(f2)\n",
    "            elif counter == 2:\n",
    "                # Нет смысла заново назначать f1, f2 и т.п., так как их значения не удаляются на время действия цикла\n",
    "                vector3 = matrix[v_num]\n",
    "                a1 = (np.matmul(vector3, f1.transpose())/ np.matmul(f1, f1.transpose()))\n",
    "                a2 = (np.matmul(vector3, f2.transpose())/ np.matmul(f2, f2.transpose()))\n",
    "                f3 = vector3 -f1*a1 - f2*a2\n",
    "                if f3.any() == False:\n",
    "                    continue\n",
    "                counter += 1\n",
    "                f_list.append(f3)\n",
    "            elif counter == 3:\n",
    "                vector4 = matrix[v_num]\n",
    "                a1 = (np.matmul(vector4, f1.transpose())/ np.matmul(f1, f1.transpose()))\n",
    "                a2 = (np.matmul(vector4, f2.transpose())/ np.matmul(f2, f2.transpose()))\n",
    "                a3 = (np.matmul(vector4, f3.transpose())/ np.matmul(f3, f3.transpose()))\n",
    "                f4 = vector4 - f1*a1 - f2*a2 - f3*a3\n",
    "                if f4.any() == False:\n",
    "                    continue\n",
    "                f_list.append(f4)\n",
    "        unit_vector_list = [self.unit_vector(units) for units in f_list]\n",
    "        return f'Список векторов базиса: {f_list}. Список единичных векторов: {unit_vector_list}'\n",
    "\n"
   ]
  },
  {
   "cell_type": "code",
   "execution_count": 9,
   "metadata": {},
   "outputs": [
    {
     "data": {
      "text/plain": [
       "'Список векторов базиса: [array([ 1,  2,  2, -1]), array([ 2.,  3., -3.,  2.]), array([ 2., -1., -1., -2.])]. Список единичных векторов: [array([ 0.31622777,  0.63245553,  0.63245553, -0.31622777]), array([ 0.39223227,  0.58834841, -0.58834841,  0.39223227]), array([ 0.63245553, -0.31622777, -0.31622777, -0.63245553])]'"
      ]
     },
     "execution_count": 9,
     "metadata": {},
     "output_type": "execute_result"
    }
   ],
   "source": [
    "example = Matrix(matrix = [[1, 1, 3, 2],\n",
    "                           [2, 1, 2, 3],\n",
    "                           [2, -5, 8, -3],\n",
    "                           [-1, 3, -7, 2]\n",
    "          ])\n",
    "example.ortogonize()"
   ]
  },
  {
   "cell_type": "code",
   "execution_count": null,
   "metadata": {},
   "outputs": [],
   "source": [
    "example = Matrix(matrix = [[1, 1, 3, 2],\n",
    "                           [2, 1, 2, 3],\n",
    "                           [2, -5, 8, -3],\n",
    "                           [-1, 3, -7, 2]\n",
    "          ])\n",
    "example.ortogonize()"
   ]
  }
 ],
 "metadata": {
  "kernelspec": {
   "display_name": "Python 3",
   "language": "python",
   "name": "python3"
  },
  "language_info": {
   "codemirror_mode": {
    "name": "ipython",
    "version": 3
   },
   "file_extension": ".py",
   "mimetype": "text/x-python",
   "name": "python",
   "nbconvert_exporter": "python",
   "pygments_lexer": "ipython3",
   "version": "3.11.4"
  },
  "orig_nbformat": 4
 },
 "nbformat": 4,
 "nbformat_minor": 2
}
