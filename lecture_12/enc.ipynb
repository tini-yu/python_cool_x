{
 "cells": [
  {
   "cell_type": "code",
   "execution_count": null,
   "metadata": {},
   "outputs": [],
   "source": []
  },
  {
   "cell_type": "code",
   "execution_count": 9,
   "metadata": {},
   "outputs": [
    {
     "name": "stdout",
     "output_type": "stream",
     "text": [
      "['PassengerId', 'Pclass', 'Name', 'Sex', 'Age', 'SibSp', 'Parch', 'Ticket', 'Fare', 'Cabin', 'Embarked']\n",
      "['892', '3', '\"Kelly', ' Mr. James\"', 'male', '34.5', '0', '0', '330911', '7.8292', '', 'Q']\n",
      "['893', '3', '\"Wilkes', ' Mrs. James (Ellen Needs)\"', 'female', '47', '1', '0', '363272', '7', '', 'S']\n",
      "['894', '2', '\"Myles', ' Mr. Thomas Francis\"', 'male', '62', '0', '0', '240276', '9.6875', '', 'Q']\n",
      "['895', '3', '\"Wirz', ' Mr. Albert\"', 'male', '27', '0', '0', '315154', '8.6625', '', 'S']\n",
      "['896', '3', '\"Hirvonen', ' Mrs. Alexander (Helga E Lindqvist)\"', 'female', '22', '1', '1', '3101298', '12.2875', '', 'S']\n",
      "['897', '3', '\"Svensson', ' Mr. Johan Cervin\"', 'male', '14', '0', '0', '7538', '9.225', '', 'S']\n",
      "['898', '3', '\"Connolly', ' Miss. Kate\"', 'female', '30', '0', '0', '330972', '7.6292', '', 'Q']\n",
      "['899', '2', '\"Caldwell', ' Mr. Albert Francis\"', 'male', '26', '1', '1', '248738', '29', '', 'S']\n",
      "['900', '3', '\"Abrahim', ' Mrs. Joseph (Sophie Halaut Easu)\"', 'female', '18', '0', '0', '2657', '7.2292', '', 'C']\n"
     ]
    }
   ],
   "source": [
    "file = open('test.csv', 'r')\n",
    "#файлы могут мыть открыты в 3 режимах - читать'r', писать, дополнять\n",
    "file_lines = file.readlines()\n",
    "for i in range(10):\n",
    "    print(file_lines[i].strip('\\n').split(','))\n",
    "file.close() #You should always close the connection with the file."
   ]
  },
  {
   "cell_type": "code",
   "execution_count": 16,
   "metadata": {},
   "outputs": [
    {
     "name": "stdout",
     "output_type": "stream",
     "text": [
      "PassengerId,Pclass,Name,Sex,Age,SibSp,Parch,Ticket,Fare,Cabin,Embarked\n",
      "892,3,\"Kelly, Mr. James\",male\n",
      ",34.5,0,0,330911,7.8292,,Q\n",
      "893,3,\"Wilkes, Mrs. James (Ellen Needs)\",female,47,1,0,363272,7,,S\n",
      "894,2,\n",
      "\n",
      "\"\n",
      "My\n",
      "les\n",
      ", Mr\n",
      ". Tho\n",
      "mas Fr\n",
      "ancis\",\n",
      "male,62,\n",
      "0,0,24027\n",
      "6,9.6875,,\n",
      "Q\n",
      "895,3,\"Wi\n",
      "rz, Mr. Albe\n",
      "rt\",male,27,0\n",
      ",0,315154,8.66\n",
      "25,,S\n",
      "896,3,\"Hi\n",
      "rvonen, Mrs. Ale\n",
      "xander (Helga E L\n",
      "indqvist)\",female,\n",
      "22,1,1,3101298,12.2\n"
     ]
    }
   ],
   "source": [
    "# Если есть with, то закрывать не надо, так как он сам закроется\n",
    "with open('test.csv', 'r') as file:\n",
    "    print(file.read(100))\n",
    "    print(file.read(100))\n",
    "    for i in range(20):\n",
    "        print(file.read(i))"
   ]
  },
  {
   "cell_type": "code",
   "execution_count": 19,
   "metadata": {},
   "outputs": [],
   "source": [
    "#Как записать файл\n",
    "a = int(input('1: '))\n",
    "b = int(input('2: '))\n",
    "\n",
    "with open('out.txt', 'w+', encoding='utf-8') as wfile:\n",
    "    wfile.write(f'{a**2} + {b**3} = {a*2 + b**3}\\n')\n",
    "    wfile.write(f'{a} + {b} = {a+b}')"
   ]
  },
  {
   "cell_type": "code",
   "execution_count": 20,
   "metadata": {},
   "outputs": [],
   "source": [
    "#'w+' - написать файл или создать если не существует\n",
    "#Чтобы узнать кодировку файла\n",
    "#Ascii - для латиницы и основных символов\n",
    "#UTF-8 - для впринципе всего"
   ]
  },
  {
   "cell_type": "code",
   "execution_count": 23,
   "metadata": {},
   "outputs": [],
   "source": [
    "#b - бинарный режим в 'wb' и перед строкой\n",
    "with open('b_out.txt', 'wb+') as wbfile:\n",
    "    wbfile.write(b'Hewwoo! UwU')"
   ]
  },
  {
   "cell_type": "code",
   "execution_count": null,
   "metadata": {},
   "outputs": [],
   "source": []
  }
 ],
 "metadata": {
  "kernelspec": {
   "display_name": "Python 3",
   "language": "python",
   "name": "python3"
  },
  "language_info": {
   "codemirror_mode": {
    "name": "ipython",
    "version": 3
   },
   "file_extension": ".py",
   "mimetype": "text/x-python",
   "name": "python",
   "nbconvert_exporter": "python",
   "pygments_lexer": "ipython3",
   "version": "3.11.4"
  }
 },
 "nbformat": 4,
 "nbformat_minor": 2
}
