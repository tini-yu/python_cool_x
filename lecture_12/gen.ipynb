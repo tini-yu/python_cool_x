{
 "cells": [
  {
   "cell_type": "code",
   "execution_count": 2,
   "metadata": {},
   "outputs": [
    {
     "name": "stdout",
     "output_type": "stream",
     "text": [
      "[0, 1, 4, 9, 16, 25, 36, 49, 64, 81]\n",
      "<generator object gen_squared at 0x000002724EE30AD0>\n"
     ]
    }
   ],
   "source": [
    "def list_squared(n: int) -> list[int]:\n",
    "    new_list = []\n",
    "    for i in range(n):\n",
    "        new_list.append(i**2)\n",
    "    return new_list\n",
    "\n",
    "def gen_squared(n: int) -> list[int]:\n",
    "    for i in range(n):\n",
    "        yield i**2 #Одалживает и возвращает, когда будет нужно\n",
    "#yield - функция генератора\n",
    "\n",
    "print(list_squared(10))\n",
    "print(gen_squared(10))"
   ]
  },
  {
   "cell_type": "code",
   "execution_count": 28,
   "metadata": {},
   "outputs": [
    {
     "name": "stdout",
     "output_type": "stream",
     "text": [
      "520 ns ± 9.26 ns per loop (mean ± std. dev. of 7 runs, 1,000,000 loops each)\n",
      "709 ns ± 7.08 ns per loop (mean ± std. dev. of 7 runs, 1,000,000 loops each)\n"
     ]
    }
   ],
   "source": [
    "#%%timeit # % - для одной строки %% - для всей клеточки\n",
    "%timeit list_squared(10)\n",
    "%timeit list(gen_squared(10))"
   ]
  },
  {
   "cell_type": "code",
   "execution_count": 3,
   "metadata": {},
   "outputs": [
    {
     "data": {
      "text/plain": [
       "<generator object gen_squared at 0x000002724EDA7440>"
      ]
     },
     "execution_count": 3,
     "metadata": {},
     "output_type": "execute_result"
    }
   ],
   "source": [
    "gen = gen_squared(10)\n",
    "gen"
   ]
  },
  {
   "cell_type": "code",
   "execution_count": 4,
   "metadata": {},
   "outputs": [
    {
     "data": {
      "text/plain": [
       "0"
      ]
     },
     "execution_count": 4,
     "metadata": {},
     "output_type": "execute_result"
    }
   ],
   "source": [
    "next(gen) #Запускает следующую итерацию генератора"
   ]
  },
  {
   "cell_type": "code",
   "execution_count": 5,
   "metadata": {},
   "outputs": [
    {
     "data": {
      "text/plain": [
       "[0, 10, 20, 30]"
      ]
     },
     "execution_count": 5,
     "metadata": {},
     "output_type": "execute_result"
    }
   ],
   "source": [
    "def hate_40(num: float | int) -> list[float|int]:\n",
    "    for i in range(num):\n",
    "        if i*10 != 40:\n",
    "            yield i*10\n",
    "        else:\n",
    "            return\n",
    "\n",
    "list(hate_40(6))"
   ]
  },
  {
   "cell_type": "code",
   "execution_count": null,
   "metadata": {},
   "outputs": [],
   "source": []
  }
 ],
 "metadata": {
  "kernelspec": {
   "display_name": "Python 3",
   "language": "python",
   "name": "python3"
  },
  "language_info": {
   "codemirror_mode": {
    "name": "ipython",
    "version": 3
   },
   "file_extension": ".py",
   "mimetype": "text/x-python",
   "name": "python",
   "nbconvert_exporter": "python",
   "pygments_lexer": "ipython3",
   "version": "3.11.4"
  }
 },
 "nbformat": 4,
 "nbformat_minor": 2
}
