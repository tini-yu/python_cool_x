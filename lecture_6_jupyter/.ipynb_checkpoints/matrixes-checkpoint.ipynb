{
 "cells": [
  {
   "cell_type": "code",
   "execution_count": 12,
   "id": "bcadd12b-bb68-4237-a4fa-4de83186789b",
   "metadata": {},
   "outputs": [
    {
     "name": "stdout",
     "output_type": "stream",
     "text": [
      "Note: you may need to restart the kernel to use updated packages.\n"
     ]
    }
   ],
   "source": [
    "%pip install -q numpy \n",
    "#-quite тихая установка"
   ]
  },
  {
   "cell_type": "code",
   "execution_count": 5,
   "id": "e1cfa4f9-4e1a-47a8-89ef-e3a38f1f0007",
   "metadata": {},
   "outputs": [],
   "source": [
    "import numpy as np"
   ]
  },
  {
   "cell_type": "code",
   "execution_count": 10,
   "id": "1e60db64-fbc2-4874-9602-a6b7cc8c83ab",
   "metadata": {},
   "outputs": [],
   "source": [
    "a = np.array([1, 2, 3, 4, 5, 6])\n",
    "b = np.array([0, 1, 1, 0, 0, 1])\n",
    "#answ=[0, 2, 3, 0, 0, 6]\n",
    "# У array нет аттрибута append"
   ]
  },
  {
   "cell_type": "code",
   "execution_count": 15,
   "id": "979f94b5-6811-4a4a-9a59-f222c65955b4",
   "metadata": {},
   "outputs": [
    {
     "data": {
      "text/plain": [
       "array([[1],\n",
       "       [2],\n",
       "       [3],\n",
       "       [4],\n",
       "       [5],\n",
       "       [6]])"
      ]
     },
     "execution_count": 15,
     "metadata": {},
     "output_type": "execute_result"
    }
   ],
   "source": [
    "a.reshape(6, 1)"
   ]
  },
  {
   "cell_type": "code",
   "execution_count": 9,
   "id": "8d50a658-9050-4bd6-941c-91b832b14c10",
   "metadata": {},
   "outputs": [
    {
     "data": {
      "text/plain": [
       "array([0, 2, 3, 0, 0, 6])"
      ]
     },
     "execution_count": 9,
     "metadata": {},
     "output_type": "execute_result"
    }
   ],
   "source": [
    "a*b"
   ]
  },
  {
   "cell_type": "code",
   "execution_count": 14,
   "id": "9c1a00fa-ec66-45b3-98e0-eece5c0fb998",
   "metadata": {},
   "outputs": [
    {
     "data": {
      "text/plain": [
       "array([[1, 3],\n",
       "       [2, 2],\n",
       "       [3, 1]])"
      ]
     },
     "execution_count": 14,
     "metadata": {},
     "output_type": "execute_result"
    }
   ],
   "source": [
    "c = np.array([\n",
    "    [1, 2, 3],\n",
    "    [3, 2, 1],\n",
    "])\n",
    "c.T"
   ]
  },
  {
   "cell_type": "code",
   "execution_count": 16,
   "id": "918e0127-070c-44c7-a037-e181a9d91022",
   "metadata": {},
   "outputs": [
    {
     "data": {
      "text/plain": [
       "11"
      ]
     },
     "execution_count": 16,
     "metadata": {},
     "output_type": "execute_result"
    }
   ],
   "source": [
    "a @ b"
   ]
  },
  {
   "cell_type": "code",
   "execution_count": 18,
   "id": "e234199d-ab9d-4f0f-9fa9-552c6ac71d5c",
   "metadata": {},
   "outputs": [
    {
     "data": {
      "text/plain": [
       "11"
      ]
     },
     "execution_count": 18,
     "metadata": {},
     "output_type": "execute_result"
    }
   ],
   "source": [
    "a.dot(b)\n",
    "#Скалярное произвеление"
   ]
  },
  {
   "cell_type": "code",
   "execution_count": null,
   "id": "7c9e270b-7518-44a1-b0a8-ed4a89232df5",
   "metadata": {},
   "outputs": [],
   "source": []
  }
 ],
 "metadata": {
  "kernelspec": {
   "display_name": "Python 3 (ipykernel)",
   "language": "python",
   "name": "python3"
  },
  "language_info": {
   "codemirror_mode": {
    "name": "ipython",
    "version": 3
   },
   "file_extension": ".py",
   "mimetype": "text/x-python",
   "name": "python",
   "nbconvert_exporter": "python",
   "pygments_lexer": "ipython3",
   "version": "3.11.4"
  }
 },
 "nbformat": 4,
 "nbformat_minor": 5
}
