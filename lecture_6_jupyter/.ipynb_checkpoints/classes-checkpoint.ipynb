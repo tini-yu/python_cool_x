{
 "cells": [
  {
   "cell_type": "code",
   "execution_count": 65,
   "id": "4380fe0e-22b1-43d2-8c9b-8955e4d82461",
   "metadata": {},
   "outputs": [],
   "source": [
    "class Human:\n",
    "\n",
    "    iq: int = 200\n",
    "    # weight: float | int = 80\n",
    "    # height: float | int = 170\n",
    "    # name: str | None = None\n",
    "\n",
    "    def __init__(self,\n",
    "                 weight: float | int = 82,\n",
    "                 height: float | int = 171,\n",
    "                 name: str | None = None):\n",
    "        self.weight = weight\n",
    "        self.height = height\n",
    "        self.name = name\n",
    "        \n",
    "\n",
    "    def walk(self, speed: int | float = 1.0):\n",
    "        height = 20\n",
    "        print('Я иду, мой рост -', self.height)\n",
    "\n",
    "    def run(self, speed: float = 5.0):\n",
    "        if self.weight > 110:\n",
    "            print('I cannot run')\n",
    "        else:\n",
    "            print('Я бегу со скоростью:', speed)\n",
    "\n",
    "    def breathe(self):\n",
    "        if self.height > 200:\n",
    "            print('Its hard to brathe up here')\n",
    "        elif self.weight >=180:\n",
    "            print('Its just hart to breathe')\n",
    "        elif self.iq < 60:\n",
    "            print('I forgor how to breathe')\n",
    "        else:\n",
    "            print('Я дышу')\n",
    "\n",
    "# self говорит что функция принадлежит данному классу\n",
    "# self ссылается обратно на сам класс. всегда должно быть первым значением"
   ]
  },
  {
   "cell_type": "code",
   "execution_count": 93,
   "id": "b30a2e56-37a1-4f85-8599-26cc461f7af3",
   "metadata": {},
   "outputs": [],
   "source": [
    "vova2 = Human(\n",
    "    height = 90,\n",
    "    weight = 220,\n",
    "    name = 'Vova')"
   ]
  },
  {
   "cell_type": "code",
   "execution_count": 94,
   "id": "4e2ecf77-5419-4ce7-9389-ab4d82016568",
   "metadata": {},
   "outputs": [
    {
     "data": {
      "text/plain": [
       "'Vova'"
      ]
     },
     "execution_count": 94,
     "metadata": {},
     "output_type": "execute_result"
    }
   ],
   "source": [
    "vova2.name"
   ]
  },
  {
   "cell_type": "code",
   "execution_count": 95,
   "id": "f2a519f0-cb82-4a32-9d09-cf56ffab44a7",
   "metadata": {},
   "outputs": [
    {
     "data": {
      "text/plain": [
       "200"
      ]
     },
     "execution_count": 95,
     "metadata": {},
     "output_type": "execute_result"
    }
   ],
   "source": [
    "vova2.iq"
   ]
  },
  {
   "cell_type": "code",
   "execution_count": 96,
   "id": "4a5a72c5-e7df-489b-ab5e-3c6183d5722b",
   "metadata": {},
   "outputs": [
    {
     "name": "stdout",
     "output_type": "stream",
     "text": [
      "I cannot run\n"
     ]
    }
   ],
   "source": [
    "vova2.run()"
   ]
  },
  {
   "cell_type": "code",
   "execution_count": 64,
   "id": "4ad7a21f-6ac6-4764-95ae-33bc1fc298bb",
   "metadata": {},
   "outputs": [
    {
     "data": {
      "text/plain": [
       "220"
      ]
     },
     "execution_count": 64,
     "metadata": {},
     "output_type": "execute_result"
    }
   ],
   "source": [
    "vova2.weight"
   ]
  },
  {
   "cell_type": "code",
   "execution_count": null,
   "id": "59c30d5b-c69c-4ceb-94e7-4bf19d124652",
   "metadata": {},
   "outputs": [],
   "source": []
  },
  {
   "cell_type": "code",
   "execution_count": 77,
   "id": "c4132916-74e5-47d4-9ec2-43802f71f6a8",
   "metadata": {},
   "outputs": [],
   "source": [
    "vova3 = Human(height=300, weight=90)\n",
    "vova4 = Human(height=180, weight=400)\n",
    "vova5 = Human()"
   ]
  },
  {
   "cell_type": "code",
   "execution_count": 78,
   "id": "bfb5e73b-b09a-4f73-8897-d03faa135733",
   "metadata": {},
   "outputs": [
    {
     "name": "stdout",
     "output_type": "stream",
     "text": [
      "Vova 3\n",
      "Я иду, мой рост - 300\n",
      "Я бегу со скоростью: 5.0\n",
      "Its hard to brathe up here\n",
      "---------------\n",
      "Vova 4\n",
      "Я иду, мой рост - 180\n",
      "I cannot run\n",
      "Its just hart to breathe\n",
      "---------------\n",
      "Vova 5\n",
      "Я иду, мой рост - 171\n",
      "Я бегу со скоростью: 5.0\n",
      "Я дышу\n",
      "---------------\n"
     ]
    }
   ],
   "source": [
    "for index_vova, local_vova in enumerate([vova3, vova4, vova5]):\n",
    "    index_vova +=3\n",
    "    print('Vova',index_vova)\n",
    "    local_vova.walk()\n",
    "    local_vova.run()\n",
    "    local_vova.breathe()\n",
    "    print('-' * 15)"
   ]
  },
  {
   "cell_type": "code",
   "execution_count": null,
   "id": "efb1a7e6-e8d2-4cb6-9fa7-07038e9662af",
   "metadata": {},
   "outputs": [],
   "source": []
  },
  {
   "cell_type": "code",
   "execution_count": null,
   "id": "2c51296a-e43a-4928-8e81-cd299f3c1181",
   "metadata": {},
   "outputs": [],
   "source": []
  },
  {
   "cell_type": "code",
   "execution_count": 97,
   "id": "08018f02-b3d9-492f-9924-02bb6c5608f9",
   "metadata": {},
   "outputs": [],
   "source": [
    "vova1 = Human()"
   ]
  },
  {
   "cell_type": "code",
   "execution_count": 98,
   "id": "132bf67c-3df2-45a0-abaa-c848ebc05ba3",
   "metadata": {},
   "outputs": [
    {
     "name": "stdout",
     "output_type": "stream",
     "text": [
      "Я бегу со скоростью: 5.0\n"
     ]
    }
   ],
   "source": [
    "vova1.run()"
   ]
  },
  {
   "cell_type": "code",
   "execution_count": 99,
   "id": "566b6156-0ff4-4a10-80a2-3b7fce8e199b",
   "metadata": {},
   "outputs": [
    {
     "name": "stdout",
     "output_type": "stream",
     "text": [
      "Я иду, мой рост - 171\n"
     ]
    }
   ],
   "source": [
    "vova1.walk()\n",
    "# () т.к. функция"
   ]
  },
  {
   "cell_type": "code",
   "execution_count": 59,
   "id": "13caa342-401f-446d-9b66-7d5cea8faba4",
   "metadata": {},
   "outputs": [
    {
     "data": {
      "text/plain": [
       "82"
      ]
     },
     "execution_count": 59,
     "metadata": {},
     "output_type": "execute_result"
    }
   ],
   "source": [
    "vova1.weight\n",
    "# без () т.к. переменная"
   ]
  },
  {
   "cell_type": "code",
   "execution_count": 60,
   "id": "7a760c5f-6f71-4e68-b16a-28d630533d49",
   "metadata": {},
   "outputs": [],
   "source": [
    "vova1.name = 'Vova'"
   ]
  },
  {
   "cell_type": "code",
   "execution_count": 61,
   "id": "28944517-30ef-4230-b7b7-c1e72ba0111e",
   "metadata": {},
   "outputs": [
    {
     "data": {
      "text/plain": [
       "'Vova'"
      ]
     },
     "execution_count": 61,
     "metadata": {},
     "output_type": "execute_result"
    }
   ],
   "source": [
    "vova1.name"
   ]
  },
  {
   "cell_type": "code",
   "execution_count": null,
   "id": "40a9b1ef-ff0b-4119-b87c-97d21ccef0b0",
   "metadata": {},
   "outputs": [],
   "source": []
  },
  {
   "cell_type": "code",
   "execution_count": 88,
   "id": "07568692-f80f-43ac-a666-64aacf57044d",
   "metadata": {},
   "outputs": [],
   "source": [
    "class HumanWorker(Human):\n",
    "    def work(self):\n",
    "        print('I work')\n",
    "\n",
    "    def walk(self, speed = 0.5):\n",
    "        print('I carry weight')\n",
    "\n",
    "    def run(self):\n",
    "        print('I cannot run in the warehouse')"
   ]
  },
  {
   "cell_type": "code",
   "execution_count": 90,
   "id": "8aea9494-02cb-44ca-b8fe-d3f775eb88b7",
   "metadata": {},
   "outputs": [],
   "source": [
    "vovaworker1 = HumanWorker()"
   ]
  },
  {
   "cell_type": "code",
   "execution_count": 91,
   "id": "70146014-a6de-4316-bf12-717d5a56ccc0",
   "metadata": {},
   "outputs": [
    {
     "name": "stdout",
     "output_type": "stream",
     "text": [
      "I carry weight\n",
      "I cannot run in the warehouse\n"
     ]
    }
   ],
   "source": [
    "vovaworker1.walk()\n",
    "vovaworker1.run()"
   ]
  },
  {
   "cell_type": "code",
   "execution_count": null,
   "id": "7fe927a9-e32d-40f3-aadc-9fb8550bf1d0",
   "metadata": {},
   "outputs": [],
   "source": []
  }
 ],
 "metadata": {
  "kernelspec": {
   "display_name": "Python 3 (ipykernel)",
   "language": "python",
   "name": "python3"
  },
  "language_info": {
   "codemirror_mode": {
    "name": "ipython",
    "version": 3
   },
   "file_extension": ".py",
   "mimetype": "text/x-python",
   "name": "python",
   "nbconvert_exporter": "python",
   "pygments_lexer": "ipython3",
   "version": "3.11.4"
  }
 },
 "nbformat": 4,
 "nbformat_minor": 5
}
