{
 "cells": [
  {
   "cell_type": "code",
   "execution_count": 1,
   "id": "9b39f7df-660a-41c1-bc13-6348d2b3aa1e",
   "metadata": {},
   "outputs": [],
   "source": [
    "class Character:\n",
    "    \n",
    "    name: str | None = None\n",
    "    \n",
    "    def __init__(self,\n",
    "                name: str | None = None,\n",
    "                hp: float | int = 100,\n",
    "                speed: float | int = 10,\n",
    "                strength: float | int = 10,\n",
    "                intelligence: float | int = 10,\n",
    "                attack: float | int = 40\n",
    "                ):\n",
    "        self.hp = hp\n",
    "        self.speed = speed\n",
    "        self.strength = strength\n",
    "        self.intelligence = intelligence\n",
    "        if name is not None:\n",
    "            self.name = name\n",
    "        self.attack: float | int = self.strength*2 + self.intelligence*2\n",
    "\n",
    "    def trade(self):\n",
    "        if self.intelligence >= 5:\n",
    "            print('I always get fair prices')\n",
    "        elif self.intelligence < 5:\n",
    "            print('Keep getting scammed. Man...')\n",
    "        elif self.intelligence > 20:\n",
    "            print('Why buy when you can steal?')\n",
    "\n",
    "    def move(self):\n",
    "        dexterity = self.speed/2 + self.strength/2\n",
    "        if dexterity >= 10:\n",
    "            print('I do a backflip')\n",
    "        else:\n",
    "            print('Just walking')\n",
    "\n",
    "    def inhale(self):\n",
    "        print('*inhaling sound*')\n",
    "\n",
    "    def exhale(self):\n",
    "        print('Haaa...')"
   ]
  },
  {
   "cell_type": "code",
   "execution_count": 3,
   "id": "4dc96088-9252-45a7-8ba0-2cf7e748507e",
   "metadata": {},
   "outputs": [],
   "source": [
    "class Hero(Character):\n",
    "    def fight(self):\n",
    "        if self.attack >= 30:\n",
    "            print('I always spare my victims')\n",
    "        elif self.attack < 30:\n",
    "            print('I never give up when I loose')\n",
    "    def protect(self):\n",
    "        print('\"I am the protector of light!\"')"
   ]
  },
  {
   "cell_type": "code",
   "execution_count": 4,
   "id": "62ed262f-81f9-49e5-b5ad-bfb1607800fb",
   "metadata": {},
   "outputs": [],
   "source": [
    "class Villain(Character):\n",
    "    def fight(self):\n",
    "        if self.attack >= 40:\n",
    "            print('I will kill my enemies')\n",
    "        else:\n",
    "            print('My enemies might be strong but I will make them suffer')\n",
    "    def burn(self):\n",
    "        print(f'{self.name} just burned another village!')\n",
    "        "
   ]
  },
  {
   "cell_type": "code",
   "execution_count": 20,
   "id": "b3cc39f0-a394-4e8f-aff3-58bedb5eb849",
   "metadata": {},
   "outputs": [],
   "source": [
    "class PaladinJoe(Hero):\n",
    "    name = 'Joe'\n",
    "    def pray(self):\n",
    "        if self.intelligence >= 10:\n",
    "            print('My faith heals my allies')\n",
    "        elif self.hp >= 100:\n",
    "            print('I will protect everyone myself')\n",
    "        else:\n",
    "            print('God is on our side! Dont give up')\n",
    "    def swing(self):\n",
    "        print(f'{self.name} swings their sword at the villain!')"
   ]
  },
  {
   "cell_type": "code",
   "execution_count": 21,
   "id": "c566542a-098e-4841-b28b-0cfd84f0d01d",
   "metadata": {},
   "outputs": [],
   "source": [
    "class PirateWill(Villain):\n",
    "    name = \"Will\"\n",
    "    def steal(self):\n",
    "        if self.speed >= 10:\n",
    "            print('I can steal anything')\n",
    "        if self.strength >= 5:\n",
    "            print('I can carry any treasure')\n",
    "        if self.attack >=20:\n",
    "            print('I can rob anyone')\n",
    "        print('If only I had my own ship')\n",
    "    def yar(self):\n",
    "        print('Yaaaaar!')"
   ]
  },
  {
   "cell_type": "code",
   "execution_count": 24,
   "id": "4e81a90a-9ba4-4a93-ad0b-d2dba2d0206f",
   "metadata": {},
   "outputs": [
    {
     "name": "stdout",
     "output_type": "stream",
     "text": [
      "Joe swings their sword at the villain!\n"
     ]
    }
   ],
   "source": [
    "joe = PaladinJoe()\n",
    "joe.swing()"
   ]
  },
  {
   "cell_type": "code",
   "execution_count": 25,
   "id": "8e73d013-7b89-4e6f-9278-6097796b6098",
   "metadata": {},
   "outputs": [],
   "source": [
    "vill=PirateWill(\n",
    "    strength = 10,\n",
    "    speed = 1,\n",
    "    intelligence = 200,\n",
    "    name = 'Vill'\n",
    ")"
   ]
  },
  {
   "cell_type": "code",
   "execution_count": 26,
   "id": "27408e19-f9fe-4805-8903-0a5c12905727",
   "metadata": {},
   "outputs": [
    {
     "name": "stdout",
     "output_type": "stream",
     "text": [
      "I can carry any treasure\n",
      "I can rob anyone\n",
      "If only I had my own ship\n"
     ]
    }
   ],
   "source": [
    "vill.steal()"
   ]
  },
  {
   "cell_type": "code",
   "execution_count": 33,
   "id": "31f61554-91b5-4194-8b87-b32e11773d41",
   "metadata": {},
   "outputs": [
    {
     "name": "stdout",
     "output_type": "stream",
     "text": [
      "I will protect everyone myself\n"
     ]
    },
    {
     "data": {
      "text/plain": [
       "'Joe'"
      ]
     },
     "execution_count": 33,
     "metadata": {},
     "output_type": "execute_result"
    }
   ],
   "source": [
    "joe.pray()\n",
    "joe.name"
   ]
  },
  {
   "cell_type": "code",
   "execution_count": 29,
   "id": "85c93a06-d21f-4842-8cc0-6db7fae60dc0",
   "metadata": {},
   "outputs": [],
   "source": [
    "fill = PirateWill(\n",
    "    hp = 1,\n",
    "    intelligence = 1,\n",
    "    strength = 1,\n",
    "    speed = 1)"
   ]
  },
  {
   "cell_type": "code",
   "execution_count": 34,
   "id": "9811df26-65e2-45e7-8664-77a9319260e1",
   "metadata": {},
   "outputs": [],
   "source": [
    "poe = PaladinJoe(\n",
    "    name = 'Poe',\n",
    "    speed = 12345,\n",
    "    strength = 99)"
   ]
  },
  {
   "cell_type": "code",
   "execution_count": 35,
   "id": "93e38ed5-93c0-4150-8c4e-f29c08c61ef0",
   "metadata": {},
   "outputs": [
    {
     "name": "stdout",
     "output_type": "stream",
     "text": [
      "Will just burned another village!\n"
     ]
    }
   ],
   "source": [
    "fill.burn()"
   ]
  },
  {
   "cell_type": "code",
   "execution_count": 36,
   "id": "d7a14eb0-1260-42d0-868e-ab914f43223a",
   "metadata": {},
   "outputs": [
    {
     "name": "stdout",
     "output_type": "stream",
     "text": [
      "Vill\n",
      "Just walking\n",
      "I always get fair prices\n",
      "______________\n",
      "Will\n",
      "Just walking\n",
      "Keep getting scammed. Man...\n",
      "______________\n",
      "Joe\n",
      "I do a backflip\n",
      "Keep getting scammed. Man...\n",
      "______________\n",
      "Poe\n",
      "I do a backflip\n",
      "I always get fair prices\n",
      "______________\n"
     ]
    }
   ],
   "source": [
    "for char in [vill, fill, joe, poe]:\n",
    "    print(char.name)\n",
    "    char.move()\n",
    "    char.trade()\n",
    "    print('_'*14)"
   ]
  }
 ],
 "metadata": {
  "kernelspec": {
   "display_name": "Python 3 (ipykernel)",
   "language": "python",
   "name": "python3"
  },
  "language_info": {
   "codemirror_mode": {
    "name": "ipython",
    "version": 3
   },
   "file_extension": ".py",
   "mimetype": "text/x-python",
   "name": "python",
   "nbconvert_exporter": "python",
   "pygments_lexer": "ipython3",
   "version": "3.11.4"
  }
 },
 "nbformat": 4,
 "nbformat_minor": 5
}
