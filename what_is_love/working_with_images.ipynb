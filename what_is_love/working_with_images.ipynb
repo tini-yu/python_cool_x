{
 "cells": [
  {
   "cell_type": "code",
   "execution_count": null,
   "metadata": {},
   "outputs": [],
   "source": []
  },
  {
   "cell_type": "code",
   "execution_count": 3,
   "metadata": {},
   "outputs": [],
   "source": [
    "from torchvision.transforms import transforms #библиотека для работы с изображениями\n",
    "import torch"
   ]
  },
  {
   "cell_type": "code",
   "execution_count": 4,
   "metadata": {},
   "outputs": [
    {
     "data": {
      "text/plain": [
       "(2206, 1938, 3)"
      ]
     },
     "execution_count": 4,
     "metadata": {},
     "output_type": "execute_result"
    }
   ],
   "source": [
    "#open CV\n",
    "import cv2\n",
    "\n",
    "image = cv2.imread('pok.png')\n",
    "image.shape\n",
    "\n",
    "#возвращает np.array\n",
    "#открывает картинку в BGR (обратно RGB)\n",
    "#сначала ширина высота, потом каналы"
   ]
  },
  {
   "cell_type": "code",
   "execution_count": 5,
   "metadata": {},
   "outputs": [
    {
     "data": {
      "text/plain": [
       "torch.Size([4, 2206, 1938])"
      ]
     },
     "execution_count": 5,
     "metadata": {},
     "output_type": "execute_result"
    }
   ],
   "source": [
    "from torchvision.io import read_image\n",
    "#сначала количество каналов, а потом ширина - высота\n",
    "\n",
    "image = read_image('pok.png')\n",
    "image.shape\n",
    "\n",
    "\n",
    "#возвращает tensor"
   ]
  },
  {
   "cell_type": "code",
   "execution_count": 6,
   "metadata": {},
   "outputs": [
    {
     "data": {
      "text/plain": [
       "tensor([0.3916, 1.8721, 1.8003, 0.0995])"
      ]
     },
     "execution_count": 6,
     "metadata": {},
     "output_type": "execute_result"
    }
   ],
   "source": [
    "f_t = transforms.Lambda(lambda x: x*2) #Объект занесенный в функцию должен быть возведен в квадрат\n",
    "a = torch.rand(4)\n",
    "f_t(a)\n",
    "#transforms.  -- посмотреть какие есть функции. Большинство функций работают с изображениями формата PIL (ToPILImage()) - поэтому надо менять форматы\n",
    "#compose - п"
   ]
  },
  {
   "cell_type": "code",
   "execution_count": 7,
   "metadata": {},
   "outputs": [
    {
     "data": {
      "text/plain": [
       "tensor([0.7832, 3.7442, 3.6006, 0.1989])"
      ]
     },
     "execution_count": 7,
     "metadata": {},
     "output_type": "execute_result"
    }
   ],
   "source": [
    "f_t1 = transforms.Compose([f_t, f_t]) #объединяет функции в одну функцию, включая функции из transform.\n",
    "f_t1(a)"
   ]
  },
  {
   "cell_type": "code",
   "execution_count": 8,
   "metadata": {},
   "outputs": [],
   "source": [
    "#Если датасет слишком маленький, можно\n",
    "#Изменять изображения - переворачивать, добавлять блюр, менять цветовую гамму\n",
    "#2 Способ - взять натренированную модель. Взять слои которые натренированны на поиске низкоуровневых паттернов. И переобучаем модель на что-то новое"
   ]
  },
  {
   "cell_type": "code",
   "execution_count": 9,
   "metadata": {},
   "outputs": [],
   "source": [
    "from torch.utils.data import Dataset\n",
    "import pathlib \n",
    "#dataset - откуда забрать 1 объект\n",
    "#dataloader - собирает батчи"
   ]
  },
  {
   "cell_type": "code",
   "execution_count": 10,
   "metadata": {},
   "outputs": [],
   "source": [
    "class LatinDataset(Dataset):\n",
    "\n",
    "    #в ините объявляем путь к датасету\n",
    "    def __init__(self, path_dataset: pathlib.Path):\n",
    "        self.path_dataset = path_dataset\n",
    "        self.data_list = [x for x in self.path_dataset.glob('**/*') if x.is_file()] # **/* - паттерн значащий - любая папка внутри и не важно что после неё\n",
    "        # то есть передаем в класс условие по которому ходить по датасету\n",
    "        # ------------\n",
    "        # Выделяем количество классов:\n",
    "        self.data_class = list(set([x.parent for x in self.data_list])) #Используем множество т.к. там значения уникальны. Т.е. убираем повторяющиеся пути\n",
    "        # Возвращаем в лист, т.к. в сете нет индексов, а они нам нужны\n",
    "        # Для свертки важно лишь количество фильтров, а не размерность картинки.\n",
    "        # Но для батчей все картинки должны быть одной размерности. Поэтому все картинки нужно подогнать к одному размеру.\n",
    "        self.transform_func = transforms.Compose([\n",
    "             transforms.ToPILImage(),\n",
    "             transforms.Grayscale(), #т.к. мы работаем с чб картинками\n",
    "             transforms.Resize((124, 124)),\n",
    "             transforms.PILToTensor()\n",
    "        ])\n",
    "\n",
    "    def __len__(self): #всегда определять длину. Т.к. обращаемся к датасету он должен возвращать максимальное кол-во объектов в датасете\n",
    "        return len(self.data_list)\n",
    "    \n",
    "    def __getitem__(self, index): #dataloader returns some index from datalist\n",
    "        img_path = self.data_list[index] #path to the image\n",
    "        #but path also returns label\n",
    "        #label вектор размерности максимального размера класса, где единица указывает принадлежность к классу (см. one hot encoder)\n",
    "        img_label = torch.zeros(len(self.data_class)) #возвращает тензор с нулевыми значениями с размерностью кол-ва классов\n",
    "        img_label[self.data_class.index(img_path.parent)] = 1.0 #Находим индекс класса и заменяем ячейку под этим индексом на принадлежность к классу.\n",
    "        #В нашем случае каждая папка это отдельный класс\n",
    "\n",
    "\n",
    "        img_tensor = read_image(img_path)\n",
    "        return self.transform_func(img_tensor), img_label\n",
    "    "
   ]
  },
  {
   "cell_type": "code",
   "execution_count": 24,
   "metadata": {},
   "outputs": [
    {
     "data": {
      "text/plain": [
       "{WindowsPath('C:/Users/Joe/Desktop/python_yes/what_is_love/letters/A')}"
      ]
     },
     "execution_count": 24,
     "metadata": {},
     "output_type": "execute_result"
    }
   ],
   "source": [
    "g = pathlib.Path(r'C:\\Users\\Joe\\Desktop\\python_yes\\what_is_love\\letters')\n",
    "a = [x for x in g.glob('**/*') if x.is_file()]\n",
    "set([x.parent for x in a])\n",
    "#[a for a in g.iterdir()]"
   ]
  },
  {
   "cell_type": "code",
   "execution_count": null,
   "metadata": {},
   "outputs": [],
   "source": []
  }
 ],
 "metadata": {
  "kernelspec": {
   "display_name": "Python 3",
   "language": "python",
   "name": "python3"
  },
  "language_info": {
   "codemirror_mode": {
    "name": "ipython",
    "version": 3
   },
   "file_extension": ".py",
   "mimetype": "text/x-python",
   "name": "python",
   "nbconvert_exporter": "python",
   "pygments_lexer": "ipython3",
   "version": "3.11.4"
  }
 },
 "nbformat": 4,
 "nbformat_minor": 2
}
