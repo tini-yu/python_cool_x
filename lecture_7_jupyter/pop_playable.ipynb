{
 "cells": [
  {
   "cell_type": "code",
   "execution_count": 50,
   "id": "33bcddc3-8e75-46b4-92c2-a7549064c057",
   "metadata": {},
   "outputs": [],
   "source": [
    "class MixinWalk:\n",
    "    def walk(self):\n",
    "        print('can walk for sure')\n",
    "\n",
    "class MixinDeath:\n",
    "    def death(self):\n",
    "        print('aaaugh...')\n",
    "\n",
    "class MixinAttack:\n",
    "    def attack(self):\n",
    "        print('*shooting sound*')\n",
    "\n",
    "class MixinTalk:\n",
    "    language: str = 'English'\n",
    "    def __init__(self, language: str = 'English'):\n",
    "        self.language: str = language   \n",
    "    def talk(self):\n",
    "        print(f'Do be speaking {self.language}')\n",
    "\n",
    "class MixableCuteness:\n",
    "    def look_cute(self):\n",
    "        print('UWU')\n",
    "\n",
    "class MixinFall:\n",
    "    def fall(self):\n",
    "        print('*falling sound*')\n",
    "        \n",
    "class Playable(MixinTalk, MixinAttack, MixinDeath, MixinWalk, MixableCuteness):\n",
    "   pass"
   ]
  },
  {
   "cell_type": "code",
   "execution_count": 51,
   "id": "5a097628-f0d8-4fee-b12d-3d5cd2033ffc",
   "metadata": {},
   "outputs": [],
   "source": [
    "class BaseCharacter(MixinFall):\n",
    "    height: int = 170\n",
    "    weight: int = 75\n",
    "    eye_quantity: int = 2\n",
    "    hair_color: str = 'Brown'\n",
    "\n",
    "    def __init__(self,\n",
    "                 weight: int = 75,\n",
    "            height: int = 170,\n",
    "            eye_quantity: int = 2,\n",
    "            hair_color: str = 'Brown'\n",
    "                ):\n",
    "        if height != 170:\n",
    "            self.height: int = height\n",
    "        if eye_quantity != 2:\n",
    "            self.eye_quantity: int = eye_quantity\n",
    "        if weight != 75:\n",
    "            self.weight: int = weight\n",
    "        if hair_color != 'Brown':\n",
    "            self.hair_color: str = hair_color\n",
    "\n",
    "\n",
    "class MixinCrack:\n",
    "    def crack(self):\n",
    "        print('I fell from the shelf and have a crack now')\n",
    "\n",
    "class MixinPop:\n",
    "    def pop(self):\n",
    "        print('I guess I POP! ...?')\n",
    "\n",
    "class Funko(MixinFall, MixinCrack, MixinPop):\n",
    "    material: str = 'Questionable'\n",
    "    usage: str = 'Nonexistent'\n",
    "    height: int = 12\n",
    "    weight: int = 1\n",
    "    def __init__(self,\n",
    "        material: str = 'Questionable',\n",
    "        usage: str = 'Nonexistent',\n",
    "        height: int = 12,\n",
    "        weight: int = 1\n",
    "                ):\n",
    "        self.material: str = material\n",
    "        self.usage: str = usage\n",
    "        self.height: int = height\n",
    "        self.weight: int = weight\n",
    "\n"
   ]
  },
  {
   "cell_type": "code",
   "execution_count": 52,
   "metadata": {},
   "outputs": [],
   "source": [
    "class SpyTF2(BaseCharacter):\n",
    "    language = 'French'\n",
    "    hair_color = 'Grey'\n",
    "\n",
    "class ScoutTF2(BaseCharacter):\n",
    "    weight = 60\n",
    "\n",
    "class HeavyTF2(BaseCharacter):\n",
    "    language = 'Russian'\n",
    "    height = 200\n",
    "    weight = 120\n",
    "\n",
    "class DemomanTF2(BaseCharacter):\n",
    "    eye_quantity = 1\n",
    "    language = 'Scots language'\n",
    "    hair_color = 'Black'"
   ]
  },
  {
   "cell_type": "code",
   "execution_count": 53,
   "id": "4ae41c79-2984-4955-b1ef-9eeccf624310",
   "metadata": {},
   "outputs": [],
   "source": [
    "class PlayableSpyTF2(SpyTF2, Playable):\n",
    "    def hide(self):\n",
    "        print('I turn invisible')\n",
    "\n",
    "class FunkoSpyTF2(Funko, SpyTF2):\n",
    "    pass\n",
    "\n",
    "class PlayableScoutTF2(ScoutTF2, Playable):\n",
    "    def run(self):\n",
    "        print('whooooosh')\n",
    "\n",
    "class FunkoScoutTF2(Funko, ScoutTF2):\n",
    "    pass\n",
    "\n",
    "class PlayableHeavyTF2(HeavyTF2, Playable):\n",
    "    def minigun(self):\n",
    "        print('Yaa-ta-ta-ta-ta! Ya-ta-ta-ta-ta-ta!')\n",
    "\n",
    "class FunkoHeavyTF2(Funko, HeavyTF2):\n",
    "    pass\n",
    "\n",
    "class PlayableDemomanTF2(DemomanTF2, Playable):\n",
    "    def drink(self):\n",
    "        print('Thats some nice scrampe')\n",
    "\n",
    "class FunkoDemomanTF2(Funko, DemomanTF2):\n",
    "    pass"
   ]
  },
  {
   "cell_type": "code",
   "execution_count": 54,
   "id": "122f0de4-007d-4d79-afce-0fbd0b978ef2",
   "metadata": {},
   "outputs": [
    {
     "data": {
      "text/plain": [
       "'French'"
      ]
     },
     "execution_count": 54,
     "metadata": {},
     "output_type": "execute_result"
    }
   ],
   "source": [
    "spy = PlayableSpyTF2()\n",
    "spy.language"
   ]
  },
  {
   "cell_type": "code",
   "execution_count": 55,
   "id": "d7eb18f0-e169-45ca-a5ac-591490260fd8",
   "metadata": {},
   "outputs": [
    {
     "data": {
      "text/plain": [
       "170"
      ]
     },
     "execution_count": 55,
     "metadata": {},
     "output_type": "execute_result"
    }
   ],
   "source": [
    "spy.height"
   ]
  },
  {
   "cell_type": "code",
   "execution_count": 56,
   "id": "dea7c920-6691-4833-9463-e3e7027beb3a",
   "metadata": {},
   "outputs": [
    {
     "name": "stdout",
     "output_type": "stream",
     "text": [
      "Do be speaking French\n"
     ]
    }
   ],
   "source": [
    "spy.talk()"
   ]
  },
  {
   "cell_type": "code",
   "execution_count": 57,
   "id": "670880ec-fdbb-4ac8-b6d4-19e78e7f4a25",
   "metadata": {},
   "outputs": [
    {
     "name": "stdout",
     "output_type": "stream",
     "text": [
      "I fell from the shelf and have a crack now\n"
     ]
    }
   ],
   "source": [
    "funspy = FunkoSpyTF2()\n",
    "funspy.crack()"
   ]
  },
  {
   "cell_type": "code",
   "execution_count": 58,
   "id": "e088fd09-6244-4c76-ba60-6658a1c4335f",
   "metadata": {},
   "outputs": [
    {
     "name": "stdout",
     "output_type": "stream",
     "text": [
      "whooooosh\n"
     ]
    }
   ],
   "source": [
    "scout = PlayableScoutTF2()\n",
    "scout.run()"
   ]
  },
  {
   "cell_type": "code",
   "execution_count": 65,
   "id": "98cd5c95-c1a6-4e56-8dbf-43231364bdee",
   "metadata": {},
   "outputs": [
    {
     "data": {
      "text/plain": [
       "1"
      ]
     },
     "execution_count": 65,
     "metadata": {},
     "output_type": "execute_result"
    }
   ],
   "source": [
    "demo = PlayableDemomanTF2()\n",
    "demo.eye_quantity"
   ]
  },
  {
   "cell_type": "code",
   "execution_count": 63,
   "id": "201250b2-4939-4e68-a9bb-e6f304bb4e44",
   "metadata": {},
   "outputs": [
    {
     "data": {
      "text/plain": [
       "'Scots language'"
      ]
     },
     "execution_count": 63,
     "metadata": {},
     "output_type": "execute_result"
    }
   ],
   "source": [
    "demof = FunkoDemomanTF2()\n",
    "demof.language"
   ]
  },
  {
   "cell_type": "code",
   "execution_count": 61,
   "id": "1912acac-3966-4f7a-9ad4-30167c95a7b1",
   "metadata": {},
   "outputs": [
    {
     "data": {
      "text/plain": [
       "120"
      ]
     },
     "execution_count": 61,
     "metadata": {},
     "output_type": "execute_result"
    }
   ],
   "source": [
    "heavy = PlayableHeavyTF2()\n",
    "heavy.weight"
   ]
  },
  {
   "cell_type": "code",
   "execution_count": null,
   "id": "588292f6-182d-4909-8e1f-c6fa01ab8220",
   "metadata": {},
   "outputs": [],
   "source": []
  }
 ],
 "metadata": {
  "kernelspec": {
   "display_name": "Python 3 (ipykernel)",
   "language": "python",
   "name": "python3"
  },
  "language_info": {
   "codemirror_mode": {
    "name": "ipython",
    "version": 3
   },
   "file_extension": ".py",
   "mimetype": "text/x-python",
   "name": "python",
   "nbconvert_exporter": "python",
   "pygments_lexer": "ipython3",
   "version": "3.11.4"
  }
 },
 "nbformat": 4,
 "nbformat_minor": 5
}
