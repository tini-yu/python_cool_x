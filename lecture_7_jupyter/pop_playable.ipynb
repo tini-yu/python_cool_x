{
 "cells": [
  {
   "cell_type": "code",
   "execution_count": 196,
   "id": "33bcddc3-8e75-46b4-92c2-a7549064c057",
   "metadata": {},
   "outputs": [],
   "source": [
    "class MixinWalk:\n",
    "    def walk(self):\n",
    "        print('can walk for sure')\n",
    "\n",
    "class MixinDeath:\n",
    "    def death(self):\n",
    "        print('aaaugh...')\n",
    "\n",
    "class MixinAttack:\n",
    "    def attack(self):\n",
    "        print('*shooting sound*')\n",
    "\n",
    "class MixinTalk:\n",
    "    def talk(self):\n",
    "        print(f'Do be speaking {self.language}')\n",
    "\n",
    "class MixableCuteness:\n",
    "    def look_cute(self):\n",
    "        print('UWU')\n",
    "\n",
    "class MixableFall:\n",
    "    def fall(self):\n",
    "        print('*falling sound*')\n",
    "        \n",
    "class Playable(MixinTalk, MixinAttack, MixinDeath, MixinWalk):\n",
    "    language: str = 'English'\n",
    "    def __init__(self, language: str = 'English'):\n",
    "        self.language: str = language      "
   ]
  },
  {
   "cell_type": "code",
   "execution_count": 197,
   "id": "5a097628-f0d8-4fee-b12d-3d5cd2033ffc",
   "metadata": {},
   "outputs": [],
   "source": [
    "class BaseCharacter(MixableFall):\n",
    "    height: int = 170\n",
    "    weight: int = 75\n",
    "    eye_quantity: int = 2\n",
    "\n",
    "    def __init__(self,\n",
    "                 weight: int = 75,\n",
    "            height: int = 170,\n",
    "            eye_quantity: int = 2\n",
    "                ):\n",
    "        if height != 170:\n",
    "            self.height: int = height\n",
    "        if eye_quantity != 2:\n",
    "            self.eye_quantity: int = eye_quantity\n",
    "        if weight != 75:\n",
    "            self.weight: int = weight\n",
    "\n",
    "\n",
    "class MixinCrack:\n",
    "    def crack(self):\n",
    "        print('I fell from the shelf and have a crack now')\n",
    "\n",
    "class MixinPop:\n",
    "    def pop(self):\n",
    "        print('I guess I POP! ...?')\n",
    "\n",
    "class Funko(MixableFall, MixinCrack, MixinPop):\n",
    "    material: str = 'Questionable'\n",
    "    usage: str = 'Nonexistent'\n",
    "    height: int = 12\n",
    "    weight: int = 1\n",
    "    def __init__(self,\n",
    "        material: str = 'Questionable',\n",
    "        usage: str = 'Nonexistent',\n",
    "        height: int = 12,\n",
    "        weight: int = 1\n",
    "                ):\n",
    "        self.material: str = material\n",
    "        self.usage: str = usage\n",
    "        self.height: int = height\n",
    "        self.weight: int = weight\n",
    "\n",
    "\n",
    "\n",
    "class SpyTF2(BaseCharacter, Playable, MixableCuteness):\n",
    "    language = 'French'\n",
    "    def hide(self):\n",
    "        print('I turn invisible')\n",
    "\n",
    "class FunkoSpyTF2(Funko, BaseCharacter, MixableCuteness):\n",
    "    pass"
   ]
  },
  {
   "cell_type": "code",
   "execution_count": 207,
   "id": "4ae41c79-2984-4955-b1ef-9eeccf624310",
   "metadata": {},
   "outputs": [],
   "source": [
    "class ScoutTF2(BaseCharacter, Playable):\n",
    "    weight = 60\n",
    "    def run(self):\n",
    "        print('whooooosh')\n",
    "\n",
    "class FunkoScoutTF2(Funko, BaseCharacter):\n",
    "    pass\n",
    "\n",
    "class HeavyTF2(BaseCharacter, Playable, MixableCuteness):\n",
    "    language = 'Russian'\n",
    "    height = 200\n",
    "    def minigun(self):\n",
    "        print('Yaa-ta-ta-ta-ta! Ya-ta-ta-ta-ta-ta!')\n",
    "\n",
    "class FunkoHeavyTF2(Funko, BaseCharacter, MixableCuteness):\n",
    "    pass\n",
    "\n",
    "class DemomanTF2(BaseCharacter, Playable):\n",
    "    eye_quantity = 1\n",
    "    def drink(self):\n",
    "        print('Thats some nice scrampe')\n",
    "\n",
    "class FunkoDemomanTF2(Funko, BaseCharacter):\n",
    "    pass"
   ]
  },
  {
   "cell_type": "code",
   "execution_count": 208,
   "id": "122f0de4-007d-4d79-afce-0fbd0b978ef2",
   "metadata": {},
   "outputs": [
    {
     "data": {
      "text/plain": [
       "'French'"
      ]
     },
     "execution_count": 208,
     "metadata": {},
     "output_type": "execute_result"
    }
   ],
   "source": [
    "spy = SpyTF2()\n",
    "spy.language"
   ]
  },
  {
   "cell_type": "code",
   "execution_count": 209,
   "id": "d7eb18f0-e169-45ca-a5ac-591490260fd8",
   "metadata": {},
   "outputs": [
    {
     "data": {
      "text/plain": [
       "170"
      ]
     },
     "execution_count": 209,
     "metadata": {},
     "output_type": "execute_result"
    }
   ],
   "source": [
    "spy.height"
   ]
  },
  {
   "cell_type": "code",
   "execution_count": 210,
   "id": "dea7c920-6691-4833-9463-e3e7027beb3a",
   "metadata": {},
   "outputs": [
    {
     "name": "stdout",
     "output_type": "stream",
     "text": [
      "Do be speaking French\n"
     ]
    }
   ],
   "source": [
    "spy.talk()"
   ]
  },
  {
   "cell_type": "code",
   "execution_count": 211,
   "id": "670880ec-fdbb-4ac8-b6d4-19e78e7f4a25",
   "metadata": {},
   "outputs": [
    {
     "data": {
      "text/plain": [
       "12"
      ]
     },
     "execution_count": 211,
     "metadata": {},
     "output_type": "execute_result"
    }
   ],
   "source": [
    "funspy = FunkoSpyTF2()\n",
    "funspy.height"
   ]
  },
  {
   "cell_type": "code",
   "execution_count": 212,
   "id": "e088fd09-6244-4c76-ba60-6658a1c4335f",
   "metadata": {},
   "outputs": [
    {
     "name": "stdout",
     "output_type": "stream",
     "text": [
      "whooooosh\n"
     ]
    }
   ],
   "source": [
    "scout = ScoutTF2()\n",
    "scout.run()"
   ]
  },
  {
   "cell_type": "code",
   "execution_count": 213,
   "id": "98cd5c95-c1a6-4e56-8dbf-43231364bdee",
   "metadata": {},
   "outputs": [
    {
     "data": {
      "text/plain": [
       "1"
      ]
     },
     "execution_count": 213,
     "metadata": {},
     "output_type": "execute_result"
    }
   ],
   "source": [
    "demo = DemomanTF2()\n",
    "demo.eye_quantity"
   ]
  },
  {
   "cell_type": "code",
   "execution_count": 214,
   "id": "201250b2-4939-4e68-a9bb-e6f304bb4e44",
   "metadata": {},
   "outputs": [
    {
     "name": "stdout",
     "output_type": "stream",
     "text": [
      "*falling sound*\n"
     ]
    }
   ],
   "source": [
    "demof = FunkoDemomanTF2()\n",
    "demof.fall()"
   ]
  },
  {
   "cell_type": "code",
   "execution_count": 215,
   "id": "1912acac-3966-4f7a-9ad4-30167c95a7b1",
   "metadata": {},
   "outputs": [
    {
     "data": {
      "text/plain": [
       "200"
      ]
     },
     "execution_count": 215,
     "metadata": {},
     "output_type": "execute_result"
    }
   ],
   "source": [
    "heavy = HeavyTF2()\n",
    "heavy.height"
   ]
  },
  {
   "cell_type": "code",
   "execution_count": null,
   "id": "588292f6-182d-4909-8e1f-c6fa01ab8220",
   "metadata": {},
   "outputs": [],
   "source": []
  }
 ],
 "metadata": {
  "kernelspec": {
   "display_name": "Python 3 (ipykernel)",
   "language": "python",
   "name": "python3"
  },
  "language_info": {
   "codemirror_mode": {
    "name": "ipython",
    "version": 3
   },
   "file_extension": ".py",
   "mimetype": "text/x-python",
   "name": "python",
   "nbconvert_exporter": "python",
   "pygments_lexer": "ipython3",
   "version": "3.11.4"
  }
 },
 "nbformat": 4,
 "nbformat_minor": 5
}
