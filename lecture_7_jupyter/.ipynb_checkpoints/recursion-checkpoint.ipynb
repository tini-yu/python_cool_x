{
 "cells": [
  {
   "cell_type": "code",
   "execution_count": 22,
   "id": "03b6e04a-514a-4c1c-bbce-6759286d47a4",
   "metadata": {},
   "outputs": [
    {
     "name": "stdout",
     "output_type": "stream",
     "text": [
      "Note: you may need to restart the kernel to use updated packages.\n"
     ]
    }
   ],
   "source": [
    "%pip install -q rich\n",
    "from rich import print"
   ]
  },
  {
   "cell_type": "code",
   "execution_count": 3,
   "id": "f9849bd8-fcc0-4969-aeba-3d5a1891e1c9",
   "metadata": {},
   "outputs": [],
   "source": [
    "tree = {\n",
    "   1: {\n",
    "       1: {\n",
    "            1: 'text',\n",
    "            2: 'text',\n",
    "            3: 'text'\n",
    "        }\n",
    "    },\n",
    "   2: {\n",
    "       1: {\n",
    "           1: {\n",
    "               1: {\n",
    "                    1: 'folder',\n",
    "                    2: 'folder',\n",
    "                    3: 'target_folder'\n",
    "                },\n",
    "               2: [1, 2, 3]\n",
    "            }\n",
    "        }\n",
    "    }\n",
    "}"
   ]
  },
  {
   "cell_type": "code",
   "execution_count": 4,
   "id": "21261b8b-02ff-4175-9c12-aa7964f8aa6a",
   "metadata": {},
   "outputs": [
    {
     "data": {
      "text/plain": [
       "{1: {1: {1: 'text', 2: 'text', 3: 'text'}},\n",
       " 2: {1: {1: {1: {1: 'folder', 2: 'folder', 3: 'target_folder'},\n",
       "    2: [1, 2, 3]}}}}"
      ]
     },
     "execution_count": 4,
     "metadata": {},
     "output_type": "execute_result"
    }
   ],
   "source": [
    "tree"
   ]
  },
  {
   "cell_type": "code",
   "execution_count": 19,
   "id": "bb94720a-9d76-42b3-9bce-e9ea56dafd7d",
   "metadata": {},
   "outputs": [],
   "source": [
    "def rec_find(tree: dict, name: str):\n",
    "    for key, value in tree.items():\n",
    "        if isinstance(value, dict):\n",
    "            print(f'Key is {key}, Value is {value}')\n",
    "            rec_find(value, name)"
   ]
  },
  {
   "cell_type": "code",
   "execution_count": 20,
   "id": "098818f0-4480-4de3-9d2d-87db72d3340a",
   "metadata": {},
   "outputs": [
    {
     "name": "stdout",
     "output_type": "stream",
     "text": [
      "Key is 1, Value is {1: 'text', 2: 'text', 3: 'text'}\n",
      "Key is 1, Value is {1: {1: 'text', 2: 'text', 3: 'text'}}\n",
      "Key is 1, Value is {1: 'folder', 2: 'folder', 3: 'target_folder'}\n",
      "Key is 1, Value is {1: {1: 'folder', 2: 'folder', 3: 'target_folder'}, 2: [1, 2, 3]}\n",
      "Key is 1, Value is {1: {1: {1: 'folder', 2: 'folder', 3: 'target_folder'}, 2: [1, 2, 3]}}\n",
      "Key is 2, Value is {1: {1: {1: {1: 'folder', 2: 'folder', 3: 'target_folder'}, 2: [1, 2, 3]}}}\n"
     ]
    }
   ],
   "source": [
    "rec_find(tree, 'target_folder')"
   ]
  },
  {
   "cell_type": "code",
   "execution_count": null,
   "id": "3e5ea1fa-9ec2-4c6f-81f6-4d7ea468a363",
   "metadata": {},
   "outputs": [],
   "source": [
    "#isinstance(переменная, тип) - возвращает True или False"
   ]
  }
 ],
 "metadata": {
  "kernelspec": {
   "display_name": "Python 3 (ipykernel)",
   "language": "python",
   "name": "python3"
  },
  "language_info": {
   "codemirror_mode": {
    "name": "ipython",
    "version": 3
   },
   "file_extension": ".py",
   "mimetype": "text/x-python",
   "name": "python",
   "nbconvert_exporter": "python",
   "pygments_lexer": "ipython3",
   "version": "3.11.4"
  }
 },
 "nbformat": 4,
 "nbformat_minor": 5
}
