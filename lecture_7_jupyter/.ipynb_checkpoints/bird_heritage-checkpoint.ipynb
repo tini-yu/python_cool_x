{
 "cells": [
  {
   "cell_type": "code",
   "execution_count": 68,
   "id": "b28bc230-edbb-492c-b521-e05d9d05a2c4",
   "metadata": {},
   "outputs": [],
   "source": [
    "class MixinFlyable:\n",
    "    def fly(self):\n",
    "        print('I can fly')\n",
    "\n",
    "class MixinWalkable:\n",
    "    def walk(self):\n",
    "        print('Do be walkin')\n",
    "\n",
    "class MixinSwimable:\n",
    "    def swim(self):\n",
    "        print('Be swimin')\n",
    "\n",
    "class MixinTalkable:\n",
    "    def make_noise(self):\n",
    "        print('Tweet!')"
   ]
  },
  {
   "cell_type": "code",
   "execution_count": 69,
   "id": "0928f464-71ab-4824-a89b-113f2d7ab48e",
   "metadata": {},
   "outputs": [],
   "source": [
    "class BaseBird:\n",
    "    wing_length: float = 12.5\n",
    "    legs_length: float = 3.5\n",
    "    color: str = 'red'\n",
    "    \n",
    "    def __init__(self,\n",
    "            wing_length: float = 12.5,\n",
    "            legs_length: float = 3.5,\n",
    "            color: str = 'red'\n",
    "                ):\n",
    "        self.wing_length = wing_length\n",
    "        self.legs_length = legs_length\n",
    "        self.color = color\n",
    "        print(\"BaseBird Initialized\")\n",
    "\n",
    "class Bird(MixinFlyable,\n",
    "           MixinWalkable,\n",
    "           MixinTalkable,\n",
    "           MixinSwimable):\n",
    "    pass\n",
    "\n",
    "class RubberToy(MixinTalkable):\n",
    "    toxic: bool = False\n",
    "    size_cm3: float = 12\n",
    "    color: str = 'yellow'\n",
    "    \n",
    "    def __init__(self,\n",
    "            toxic: bool = False,\n",
    "        size_cm3: float = 12,\n",
    "        color: str = 'yellow'\n",
    "                ):\n",
    "        self.toxic: bool = toxic,\n",
    "        self.size_cm3: float = size_cm3\n",
    "        self.color: str = color\n",
    "        print('RubberToy Initialized')\n",
    "\n",
    "    def bounce(self):\n",
    "        pring('boing!')\n",
    "\n",
    "    def deform(self):\n",
    "        print('morphing time')\n",
    "\n",
    "    def make_noise(self):\n",
    "        print('Squek!')"
   ]
  },
  {
   "cell_type": "code",
   "execution_count": 70,
   "id": "fe5ef083-9cab-4d50-bebf-6a944aeccfb6",
   "metadata": {},
   "outputs": [
    {
     "name": "stdout",
     "output_type": "stream",
     "text": [
      "Tweet!\n"
     ]
    }
   ],
   "source": [
    "bird1 = Bird()\n",
    "bird1.make_noise()"
   ]
  },
  {
   "cell_type": "code",
   "execution_count": 71,
   "id": "8246d1b1-4d3a-4b69-8588-c97442e7e19d",
   "metadata": {},
   "outputs": [
    {
     "name": "stdout",
     "output_type": "stream",
     "text": [
      "RubberToy Initialized\n",
      "Squek!\n"
     ]
    }
   ],
   "source": [
    "toy1 = RubberToy()\n",
    "toy1.make_noise()"
   ]
  },
  {
   "cell_type": "code",
   "execution_count": 72,
   "id": "c58470bb-3c48-41ed-b0de-625ad41e25a8",
   "metadata": {},
   "outputs": [],
   "source": [
    "class RubberBird(RubberToy, BaseBird, MixinTalkable): #Сначала наследуется класс стоящий первым (замещает, повторы на себя).\n",
    "    pass"
   ]
  },
  {
   "cell_type": "code",
   "execution_count": 73,
   "id": "c4b7899d-4bf0-4c39-b516-2f6df061e3a2",
   "metadata": {},
   "outputs": [
    {
     "name": "stdout",
     "output_type": "stream",
     "text": [
      "RubberToy Initialized\n",
      "Squek!\n",
      "morphing time\n"
     ]
    }
   ],
   "source": [
    "rub_bird1 = RubberBird()\n",
    "rub_bird1.make_noise()\n",
    "rub_bird1.wing_length\n",
    "rub_bird1.deform()"
   ]
  },
  {
   "cell_type": "code",
   "execution_count": null,
   "id": "c3b81036-5920-4300-96eb-199a6015f7e3",
   "metadata": {},
   "outputs": [],
   "source": []
  }
 ],
 "metadata": {
  "kernelspec": {
   "display_name": "Python 3 (ipykernel)",
   "language": "python",
   "name": "python3"
  },
  "language_info": {
   "codemirror_mode": {
    "name": "ipython",
    "version": 3
   },
   "file_extension": ".py",
   "mimetype": "text/x-python",
   "name": "python",
   "nbconvert_exporter": "python",
   "pygments_lexer": "ipython3",
   "version": "3.11.4"
  }
 },
 "nbformat": 4,
 "nbformat_minor": 5
}
