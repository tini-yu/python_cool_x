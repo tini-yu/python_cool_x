{
 "cells": [
  {
   "cell_type": "code",
   "execution_count": 22,
   "id": "03b6e04a-514a-4c1c-bbce-6759286d47a4",
   "metadata": {},
   "outputs": [
    {
     "name": "stdout",
     "output_type": "stream",
     "text": [
      "Note: you may need to restart the kernel to use updated packages.\n"
     ]
    }
   ],
   "source": [
    "%pip install -q rich\n",
    "from rich import print"
   ]
  },
  {
   "cell_type": "code",
   "execution_count": 26,
   "id": "f9849bd8-fcc0-4969-aeba-3d5a1891e1c9",
   "metadata": {},
   "outputs": [],
   "source": [
    "tree = {\n",
    "   1: {\n",
    "       1.1: {\n",
    "            1: 'text',\n",
    "            2: 'text',\n",
    "            3: 'text'\n",
    "        }\n",
    "    },\n",
    "   2: {\n",
    "       2.1: {\n",
    "           2.2: {\n",
    "               2.3: {\n",
    "                    1: 'folder',\n",
    "                    2: 'folder',\n",
    "                    3: 'target_folder'\n",
    "                },\n",
    "               3.3: [1, 2, 3]\n",
    "            }\n",
    "        }\n",
    "    }\n",
    "}"
   ]
  },
  {
   "cell_type": "code",
   "execution_count": 27,
   "id": "21261b8b-02ff-4175-9c12-aa7964f8aa6a",
   "metadata": {},
   "outputs": [
    {
     "data": {
      "text/plain": [
       "{1: {1.1: {1: 'text', 2: 'text', 3: 'text'}},\n",
       " 2: {2.1: {2.2: {2.3: {1: 'folder', 2: 'folder', 3: 'target_folder'},\n",
       "    3.3: [1, 2, 3]}}}}"
      ]
     },
     "execution_count": 27,
     "metadata": {},
     "output_type": "execute_result"
    }
   ],
   "source": [
    "tree"
   ]
  },
  {
   "cell_type": "code",
   "execution_count": 41,
   "id": "bb94720a-9d76-42b3-9bce-e9ea56dafd7d",
   "metadata": {},
   "outputs": [],
   "source": [
    "def rec_find(tree: dict, name: str):\n",
    "    for key, value in tree.items():\n",
    "        if isinstance(value, dict):\n",
    "            # print(f'Key is {key}, Value is {value}')\n",
    "            rec_find(value, name)\n",
    "        else:\n",
    "            if value ==name:\n",
    "                print('Found it')\n",
    "                break"
   ]
  },
  {
   "cell_type": "code",
   "execution_count": 43,
   "id": "098818f0-4480-4de3-9d2d-87db72d3340a",
   "metadata": {},
   "outputs": [
    {
     "data": {
      "text/html": [
       "<pre style=\"white-space:pre;overflow-x:auto;line-height:normal;font-family:Menlo,'DejaVu Sans Mono',consolas,'Courier New',monospace\">Found it\n",
       "</pre>\n"
      ],
      "text/plain": [
       "Found it\n"
      ]
     },
     "metadata": {},
     "output_type": "display_data"
    }
   ],
   "source": [
    "rec_find(tree, 'target_folder')"
   ]
  },
  {
   "cell_type": "code",
   "execution_count": null,
   "id": "3e5ea1fa-9ec2-4c6f-81f6-4d7ea468a363",
   "metadata": {},
   "outputs": [],
   "source": [
    "#isinstance(переменная, тип) - возвращает True или False"
   ]
  }
 ],
 "metadata": {
  "kernelspec": {
   "display_name": "Python 3 (ipykernel)",
   "language": "python",
   "name": "python3"
  },
  "language_info": {
   "codemirror_mode": {
    "name": "ipython",
    "version": 3
   },
   "file_extension": ".py",
   "mimetype": "text/x-python",
   "name": "python",
   "nbconvert_exporter": "python",
   "pygments_lexer": "ipython3",
   "version": "3.11.4"
  }
 },
 "nbformat": 4,
 "nbformat_minor": 5
}
