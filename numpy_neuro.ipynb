{
 "cells": [
  {
   "cell_type": "code",
   "execution_count": 1,
   "metadata": {},
   "outputs": [],
   "source": [
    "import numpy as np"
   ]
  },
  {
   "cell_type": "code",
   "execution_count": 2,
   "metadata": {},
   "outputs": [],
   "source": [
    "# Define activation function\n",
    "\n",
    "class BaseActivation:\n",
    "    def forward(self, layer: np.array) -> np.ndarray:\n",
    "        raise NotImplementedError\n",
    "\n",
    "    def backwards(self, layer: np.array) -> np.ndarray:\n",
    "        raise NotImplementedError"
   ]
  },
  {
   "cell_type": "code",
   "execution_count": null,
   "metadata": {},
   "outputs": [],
   "source": [
    "# Не преобразует код - беред слой и возвращает\n",
    "# На последнем слое сводит ранг матрицы к единице\n",
    "\n",
    "class LinearActivation(BaseActivation):\n",
    "    def forward(self, layer: np.array) -> np.ndarray:\n",
    "        return layer\n",
    "    \n",
    "    # В качестве производной возвращает массив единиц той же самой размерности\n",
    "    def backwards(self, layer: np.array) -> np.ndarray:\n",
    "        return np.ones(layer.shape)"
   ]
  },
  {
   "cell_type": "code",
   "execution_count": 3,
   "metadata": {},
   "outputs": [],
   "source": [
    "# Кусочно линейная функция активации. Отбрасывает все что ниже нуля\n",
    "# Может не сойтись на маленькой сети, как XOR например\n",
    "class ReluActivation(BaseActivation):\n",
    "    def forward(self, layer: np.array) -> np.ndarray:\n",
    "        return np.maximum(layer, 0)\n",
    "    \n",
    "    def backwards(self, layer: np.array) -> np.ndarray:\n",
    "        return np.where(layer > 0, 1, 0)"
   ]
  },
  {
   "cell_type": "code",
   "execution_count": 4,
   "metadata": {},
   "outputs": [],
   "source": [
    "# Домножает всё что ниже нуля на некоторый коэффициент\n",
    "# Сходится всегда, т.к. не зануляет градиенты\n",
    "class LeakyReluActivation(BaseActivation):\n",
    "    pass"
   ]
  },
  {
   "cell_type": "code",
   "execution_count": 5,
   "metadata": {},
   "outputs": [],
   "source": [
    "\n",
    "\n",
    "class SigmoidActivvation(BaseActivation):\n",
    "    def forward(self, layer: np.array) -> np.ndarray:\n",
    "        return 1.0"
   ]
  },
  {
   "cell_type": "code",
   "execution_count": 6,
   "metadata": {},
   "outputs": [],
   "source": [
    "class BaseLossFunction:\n",
    "    def compute_loss(self, y_true: np.array, y_pred: np.array) -> np.ndarray:\n",
    "        raise NotImplementedError\n",
    "        \n",
    "    def compute_gradient(self, y_pred: np.array, y_true: np.array) -> np.ndarray:\n",
    "        raise NotImplementedError"
   ]
  },
  {
   "cell_type": "code",
   "execution_count": 7,
   "metadata": {},
   "outputs": [],
   "source": [
    "class MeanSquareError(BaseLossFunction):\n",
    "    def compute_loss(self, y_pred: np.array, y_true: np.array) -> np.ndarray:\n",
    "        return ((y_pred - y_true)**2)/2\n",
    "    \n",
    "    def compute_gradient(self, y_pred: np.array, y_true: np.array) -> np.ndarray:\n",
    "        return (y_pred - y_true)"
   ]
  },
  {
   "cell_type": "code",
   "execution_count": null,
   "metadata": {},
   "outputs": [],
   "source": [
    "# Полносвязная сеть выглядит:\n",
    "'''\n",
    "Входной слой с некоторым кол-вом слоёв\n",
    "Скрытые слои\n",
    "Выходной слой\n",
    "\n",
    "Каждая нода связана с каждой нодой из предыдущего слова\n",
    "\n",
    "К каждой ноде на первом скрытом слое добавляется байас=1\n",
    "При преобразовании, значение перемещается в многомерном пространстве. Но т.к. точку ноль сдвинуть невозможно, мы добавляем байас, чтобы научить нейронку сдвигу.\n",
    "\n",
    "\n",
    "Инициализируем нейронную сеть задавая размерность слоёв (кол-во нод в каждом слое)\n",
    "\n",
    "-------------------------------------------------------\n",
    "\n",
    "Команда zip позвращает tuple из первых элементов заданных объектов, потом из вторых элементов заданных объектов и т.д.\n",
    "    Под дефолту продолжается до конца самого короткого из элементов.\n",
    "\n",
    "np.expand_dims(a, axis = 0) - изменяет размерность матрицы. В некотором роде поворачивает её, но на самом деле нет\n",
    "\n",
    "\n",
    "\n",
    "'''"
   ]
  },
  {
   "cell_type": "code",
   "execution_count": null,
   "metadata": {},
   "outputs": [],
   "source": []
  }
 ],
 "metadata": {
  "kernelspec": {
   "display_name": "Python 3",
   "language": "python",
   "name": "python3"
  },
  "language_info": {
   "codemirror_mode": {
    "name": "ipython",
    "version": 3
   },
   "file_extension": ".py",
   "mimetype": "text/x-python",
   "name": "python",
   "nbconvert_exporter": "python",
   "pygments_lexer": "ipython3",
   "version": "3.11.4"
  }
 },
 "nbformat": 4,
 "nbformat_minor": 2
}
